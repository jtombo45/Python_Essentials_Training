{
 "cells": [
  {
   "cell_type": "markdown",
   "id": "002900fb-5daa-452e-839b-ca0cd89a0721",
   "metadata": {},
   "source": [
    "# Quesiton 1\n",
    "Why is the self variable used inside a class?"
   ]
  },
  {
   "cell_type": "markdown",
   "id": "0410302f-0951-45ba-8a85-52457183738e",
   "metadata": {},
   "source": [
    "- It's a Python keyword that refers to the class instance.\n",
    "- It's a Python keyword used to create static properties on the class.\n",
    "- It's the coventional variable name to refer to the class instance.\n",
    "- It's the conventional variable name used to create static properties on the class."
   ]
  },
  {
   "cell_type": "markdown",
   "id": "89c43d05-b92d-4086-83be-62f5688a2314",
   "metadata": {},
   "source": [
    "It's the coventional variable name to refer to the class instance."
   ]
  },
  {
   "cell_type": "markdown",
   "id": "293c5a07-6a00-4d22-9aaa-42f36e8d8d82",
   "metadata": {},
   "source": [
    "# Quesiton 2\n",
    "What is super() used for inside a class?"
   ]
  },
  {
   "cell_type": "markdown",
   "id": "deaa7cde-8be9-4817-854a-161c1f57b1d2",
   "metadata": {},
   "source": [
    "- to get an instance of the child class\n",
    "- to get the child class name\n",
    "- to get parent class name\n",
    "- to get an instance of the parent class"
   ]
  },
  {
   "cell_type": "markdown",
   "id": "8313af4b-0a4b-434a-8798-462f1bc71b90",
   "metadata": {},
   "source": [
    "to get an instance of the parent class"
   ]
  },
  {
   "cell_type": "markdown",
   "id": "00a9d73c-fd3d-4c94-abd3-db136928a5c4",
   "metadata": {},
   "source": [
    "# Quesiton 3\n",
    "Assuming that rover is an instance of the Dog class, what is an equivalent of this line of code?"
   ]
  },
  {
   "cell_type": "code",
   "execution_count": null,
   "id": "80c6585e-2785-4a27-82cc-cf82e3bd73fc",
   "metadata": {},
   "outputs": [],
   "source": [
    "rover.speak()"
   ]
  },
  {
   "cell_type": "markdown",
   "id": "64a970b3-7fc3-4d60-9223-57f46d34a88c",
   "metadata": {},
   "source": [
    "- rover.speak(Dog)\n",
    "- Dog.rover.speak()\n",
    "- Dog.speak(rover)\n",
    "- Dog.speak(self)"
   ]
  },
  {
   "cell_type": "code",
   "execution_count": null,
   "id": "c05c0278-ea69-4388-be0b-8ea6e34a98b5",
   "metadata": {},
   "outputs": [],
   "source": [
    "Dog.speak(rover)"
   ]
  },
  {
   "cell_type": "code",
   "execution_count": null,
   "id": "4257276c-0eb2-4a02-84c1-e383b430bdef",
   "metadata": {},
   "outputs": [],
   "source": []
  }
 ],
 "metadata": {
  "kernelspec": {
   "display_name": "Python 3 (ipykernel)",
   "language": "python",
   "name": "python3"
  },
  "language_info": {
   "codemirror_mode": {
    "name": "ipython",
    "version": 3
   },
   "file_extension": ".py",
   "mimetype": "text/x-python",
   "name": "python",
   "nbconvert_exporter": "python",
   "pygments_lexer": "ipython3",
   "version": "3.11.8"
  }
 },
 "nbformat": 4,
 "nbformat_minor": 5
}

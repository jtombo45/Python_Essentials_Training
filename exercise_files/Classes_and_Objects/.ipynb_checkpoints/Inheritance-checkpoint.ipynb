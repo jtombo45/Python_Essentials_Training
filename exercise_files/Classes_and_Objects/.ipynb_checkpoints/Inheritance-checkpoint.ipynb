{
 "cells": [
  {
   "cell_type": "markdown",
   "id": "c58c4e2c-476e-4de9-8c23-da4b02b0f5aa",
   "metadata": {},
   "source": [
    "# Class Inheritance"
   ]
  },
  {
   "cell_type": "code",
   "execution_count": 3,
   "id": "ab4adc2c-a0a9-4095-bff1-a0b8c7cf4058",
   "metadata": {},
   "outputs": [],
   "source": [
    "class Dog:\n",
    "    _legs = 4\n",
    "    def __init__(self, name):\n",
    "        self.name = name\n",
    "\n",
    "    def speak(self):\n",
    "        print(self.name + ' says: Bark!')\n",
    "\n",
    "    def getLegs(self):\n",
    "        return self._legs\n",
    "\n",
    "class Chihuahua(Dog):\n",
    "    pass"
   ]
  },
  {
   "cell_type": "code",
   "execution_count": 4,
   "id": "2e3704e3-5214-4b87-a4cd-749634e74a23",
   "metadata": {},
   "outputs": [
    {
     "name": "stdout",
     "output_type": "stream",
     "text": [
      "Roxy says: Bark!\n"
     ]
    }
   ],
   "source": [
    "dog = Chihuahua('Roxy')\n",
    "dog.speak()"
   ]
  },
  {
   "cell_type": "code",
   "execution_count": 6,
   "id": "f6f2d6f3-e87b-478e-ab2e-7ff478586d34",
   "metadata": {},
   "outputs": [],
   "source": [
    "class Dog:\n",
    "    _legs = 4\n",
    "    def __init__(self, name):\n",
    "        self.name = name\n",
    "\n",
    "    def speak(self):\n",
    "        print(self.name + ' says: Bark!')\n",
    "\n",
    "    def getLegs(self):\n",
    "        return self._legs"
   ]
  },
  {
   "cell_type": "code",
   "execution_count": 7,
   "id": "fad84a13-3e87-451f-ae40-2bfe33266ac6",
   "metadata": {},
   "outputs": [],
   "source": [
    "class Chihuahua(Dog):\n",
    "    def speark(self):\n",
    "        print(f'{self.name} says: Yasp yap yap!')\n",
    "\n",
    "    def wagTail(self):\n",
    "        print(Vig)"
   ]
  },
  {
   "cell_type": "code",
   "execution_count": 8,
   "id": "10d9d3cd-fee9-4ec9-9a7c-0edc534e4c47",
   "metadata": {},
   "outputs": [
    {
     "name": "stdout",
     "output_type": "stream",
     "text": [
      "Roxy says: Bark!\n"
     ]
    }
   ],
   "source": [
    "dog = Chihuahua('Roxy')\n",
    "dog.speak()"
   ]
  },
  {
   "cell_type": "code",
   "execution_count": 9,
   "id": "bfc98c5d-0d1b-4292-8232-d72d347f474d",
   "metadata": {},
   "outputs": [
    {
     "name": "stdout",
     "output_type": "stream",
     "text": [
      "Rover says: Bark!\n"
     ]
    }
   ],
   "source": [
    "myDog = Dog('Rover')\n",
    "myDog.speak()"
   ]
  },
  {
   "cell_type": "markdown",
   "id": "8b45d57b-e5c4-4f40-8fc4-2a310a62a3c3",
   "metadata": {},
   "source": [
    "### Extending built-in classes"
   ]
  },
  {
   "cell_type": "code",
   "execution_count": 11,
   "id": "fb698b04-febd-4aa7-9dfb-9f3c3d76b5e3",
   "metadata": {},
   "outputs": [],
   "source": [
    "myList = list()"
   ]
  },
  {
   "cell_type": "code",
   "execution_count": 13,
   "id": "ea39241f-587e-4cad-91ba-06d213a89b58",
   "metadata": {},
   "outputs": [],
   "source": [
    "class UniqueList(list):\n",
    "    def append(self, item):\n",
    "        if item in self:\n",
    "            return\n",
    "        super().append(item) # super references the parent class and self ref the instance class"
   ]
  },
  {
   "cell_type": "code",
   "execution_count": 14,
   "id": "4ec6732e-2a09-443f-bdae-117ad3172fce",
   "metadata": {},
   "outputs": [
    {
     "name": "stdout",
     "output_type": "stream",
     "text": [
      "[1, 2]\n"
     ]
    }
   ],
   "source": [
    "uniqueList = UniqueList()\n",
    "uniqueList.append(1)\n",
    "uniqueList.append(1)\n",
    "uniqueList.append(2)\n",
    "\n",
    "print(uniqueList)"
   ]
  },
  {
   "cell_type": "code",
   "execution_count": 16,
   "id": "22c58129-b7ab-431f-aa29-cb373fdba770",
   "metadata": {},
   "outputs": [
    {
     "name": "stdout",
     "output_type": "stream",
     "text": [
      "[1, 2]\n"
     ]
    }
   ],
   "source": [
    "class UniqueList(list):\n",
    "    def __init__(self):\n",
    "        self.someProperty = 'Unique List'\n",
    "    \n",
    "    def append(self, item):\n",
    "        if item in self:\n",
    "            return\n",
    "        super().append(item) # super references the parent class and self ref the instance class\n",
    "\n",
    "uniqueList = UniqueList()\n",
    "uniqueList.append(1)\n",
    "uniqueList.append(1)\n",
    "uniqueList.append(2)\n",
    "\n",
    "print(uniqueList)"
   ]
  },
  {
   "cell_type": "code",
   "execution_count": 19,
   "id": "9e22b208-9cfb-46ca-802b-e6811d446e69",
   "metadata": {},
   "outputs": [
    {
     "name": "stdout",
     "output_type": "stream",
     "text": [
      "[1, 2]\n",
      "Unique List!\n"
     ]
    }
   ],
   "source": [
    "class UniqueList(list):\n",
    "    def __init__(self):\n",
    "        super().__init__() # this ensure the parent constructor get called first and then child constructor, so it doesn mess up the built in class\n",
    "        self.someProperty = 'Unique List!'\n",
    "    \n",
    "    def append(self, item):\n",
    "        if item in self:\n",
    "            return\n",
    "        super().append(item) # super references the parent class and self ref the instance class\n",
    "\n",
    "uniqueList = UniqueList()\n",
    "uniqueList.append(1)\n",
    "uniqueList.append(1)\n",
    "uniqueList.append(2)\n",
    "\n",
    "print(uniqueList)\n",
    "print(uniqueList.someProperty)"
   ]
  },
  {
   "cell_type": "code",
   "execution_count": null,
   "id": "446b96ee-2516-455a-9ff8-419f922ecc44",
   "metadata": {},
   "outputs": [],
   "source": []
  }
 ],
 "metadata": {
  "kernelspec": {
   "display_name": "Python 3 (ipykernel)",
   "language": "python",
   "name": "python3"
  },
  "language_info": {
   "codemirror_mode": {
    "name": "ipython",
    "version": 3
   },
   "file_extension": ".py",
   "mimetype": "text/x-python",
   "name": "python",
   "nbconvert_exporter": "python",
   "pygments_lexer": "ipython3",
   "version": "3.11.8"
  }
 },
 "nbformat": 4,
 "nbformat_minor": 5
}

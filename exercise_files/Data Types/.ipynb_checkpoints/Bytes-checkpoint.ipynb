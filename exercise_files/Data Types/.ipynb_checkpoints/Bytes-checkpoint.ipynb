{
 "cells": [
  {
   "cell_type": "markdown",
   "id": "b96ab69b-4aa1-4133-86f9-40c705c1f13f",
   "metadata": {},
   "source": [
    "# Byte objects are a sequence of data."
   ]
  },
  {
   "cell_type": "markdown",
   "id": "ba493131-eacf-4bf0-a716-861fbecb1312",
   "metadata": {},
   "source": [
    "#### Byte\n",
    "Computer store information as 1 s and 0 s in the disc\n",
    "This is a string! 10110001101011100...\n",
    "Byte object is a sequence of data \n",
    "Used for: streaming files, transmitting text without knowing the encoding, often used \"under the hood\" in Python libraries"
   ]
  },
  {
   "cell_type": "code",
   "execution_count": 1,
   "id": "f007fd3e-1bda-4564-8f9b-4beec27e922d",
   "metadata": {},
   "outputs": [
    {
     "data": {
      "text/plain": [
       "b'\\x00\\x00\\x00\\x00'"
      ]
     },
     "execution_count": 1,
     "metadata": {},
     "output_type": "execute_result"
    }
   ],
   "source": [
    "# x00 represent 2 hexadeimcal number -> 256 possibilities -> 2^8 -> 8 bits to a byte\n",
    "# b represents the byte object\n",
    "bytes(4)"
   ]
  },
  {
   "cell_type": "code",
   "execution_count": 3,
   "id": "d24c951d-7673-4234-b079-6830ad42395c",
   "metadata": {},
   "outputs": [
    {
     "data": {
      "text/plain": [
       "b'\\xf0\\x9f\\x98\\x8a'"
      ]
     },
     "execution_count": 3,
     "metadata": {},
     "output_type": "execute_result"
    }
   ],
   "source": [
    "smilyBytes = bytes('😊','utf-8')\n",
    "smilyBytes"
   ]
  },
  {
   "cell_type": "code",
   "execution_count": 4,
   "id": "876c488b-359f-49ba-a97d-c8866a6cbf69",
   "metadata": {},
   "outputs": [
    {
     "data": {
      "text/plain": [
       "'😊'"
      ]
     },
     "execution_count": 4,
     "metadata": {},
     "output_type": "execute_result"
    }
   ],
   "source": [
    "smilyBytes.decode('utf-8')"
   ]
  },
  {
   "cell_type": "code",
   "execution_count": 6,
   "id": "9350bc00-c421-4710-8dc4-2dcc841c207e",
   "metadata": {},
   "outputs": [],
   "source": [
    "smilyBytes = bytearray('😊','utf-8')"
   ]
  },
  {
   "cell_type": "code",
   "execution_count": 7,
   "id": "3ea3597e-566a-48ed-89a6-53e4dd883673",
   "metadata": {},
   "outputs": [
    {
     "data": {
      "text/plain": [
       "bytearray(b'\\xf0\\x9f\\x98\\x8a')"
      ]
     },
     "execution_count": 7,
     "metadata": {},
     "output_type": "execute_result"
    }
   ],
   "source": [
    "smilyBytes"
   ]
  },
  {
   "cell_type": "code",
   "execution_count": 8,
   "id": "134895d8-5c6e-477c-96dc-b3ba6e4392fe",
   "metadata": {},
   "outputs": [],
   "source": [
    "smilyBytes[3] = int('85',16)"
   ]
  },
  {
   "cell_type": "code",
   "execution_count": 9,
   "id": "b4c36db5-4368-4530-86f9-934933d9f757",
   "metadata": {},
   "outputs": [
    {
     "data": {
      "text/plain": [
       "'😅'"
      ]
     },
     "execution_count": 9,
     "metadata": {},
     "output_type": "execute_result"
    }
   ],
   "source": [
    "smilyBytes.decode('utf-8')"
   ]
  },
  {
   "cell_type": "code",
   "execution_count": null,
   "id": "9e1cb651-2355-4522-9c45-747428c1f75f",
   "metadata": {},
   "outputs": [],
   "source": []
  }
 ],
 "metadata": {
  "kernelspec": {
   "display_name": "Python 3 (ipykernel)",
   "language": "python",
   "name": "python3"
  },
  "language_info": {
   "codemirror_mode": {
    "name": "ipython",
    "version": 3
   },
   "file_extension": ".py",
   "mimetype": "text/x-python",
   "name": "python",
   "nbconvert_exporter": "python",
   "pygments_lexer": "ipython3",
   "version": "3.11.8"
  }
 },
 "nbformat": 4,
 "nbformat_minor": 5
}

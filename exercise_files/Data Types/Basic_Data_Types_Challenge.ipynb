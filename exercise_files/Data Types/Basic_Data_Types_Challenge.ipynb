{
 "cells": [
  {
   "cell_type": "markdown",
   "id": "6fb29b7d-75e1-4651-bba9-4cd31933847f",
   "metadata": {},
   "source": [
    "What is the value of int('101', 2)?"
   ]
  },
  {
   "cell_type": "code",
   "execution_count": 1,
   "id": "54b43486-76d7-44ea-832a-d4f4b973e7fc",
   "metadata": {},
   "outputs": [
    {
     "data": {
      "text/plain": [
       "5"
      ]
     },
     "execution_count": 1,
     "metadata": {},
     "output_type": "execute_result"
    }
   ],
   "source": [
    "int('101', 2)"
   ]
  },
  {
   "cell_type": "markdown",
   "id": "0064ea58-7365-4094-b88c-ef20552fb7b7",
   "metadata": {},
   "source": [
    "What is the value of int(8.7)?"
   ]
  },
  {
   "cell_type": "code",
   "execution_count": 2,
   "id": "ca4ee4bf-d5db-449a-8d7c-06527bebe391",
   "metadata": {},
   "outputs": [
    {
     "data": {
      "text/plain": [
       "8"
      ]
     },
     "execution_count": 2,
     "metadata": {},
     "output_type": "execute_result"
    }
   ],
   "source": [
    "int(8.7)"
   ]
  },
  {
   "cell_type": "markdown",
   "id": "d890b3e3-30fe-4a2e-9232-94cf3180a166",
   "metadata": {},
   "source": [
    "What is the value of this statement?\n",
    "bool(-1) == 1"
   ]
  },
  {
   "cell_type": "code",
   "execution_count": 3,
   "id": "4034b2f0-363f-434f-aea8-47bfb145412c",
   "metadata": {},
   "outputs": [
    {
     "data": {
      "text/plain": [
       "True"
      ]
     },
     "execution_count": 3,
     "metadata": {},
     "output_type": "execute_result"
    }
   ],
   "source": [
    "bool(-1) == 1"
   ]
  },
  {
   "cell_type": "markdown",
   "id": "50a40cea-7318-4b51-b816-d6c3eddcbce4",
   "metadata": {},
   "source": [
    "What class might be used to store precise monetary amounts for a banking application?"
   ]
  },
  {
   "cell_type": "code",
   "execution_count": null,
   "id": "d1e8b58a-4eb0-4147-9ad2-c88abf7e0408",
   "metadata": {},
   "outputs": [],
   "source": [
    "# decimal"
   ]
  },
  {
   "cell_type": "markdown",
   "id": "802444a1-a8c2-4abf-8f78-770217851c82",
   "metadata": {},
   "source": [
    "What does bytes(4) do?"
   ]
  },
  {
   "cell_type": "code",
   "execution_count": 6,
   "id": "e6b349ed-d40f-4261-acaa-8aaae52403cf",
   "metadata": {},
   "outputs": [],
   "source": [
    "# It creates an empty bytes object 4 bytes long."
   ]
  },
  {
   "cell_type": "markdown",
   "id": "1c6dd7df-0049-4f4f-882e-c0d1366440ac",
   "metadata": {},
   "source": [
    "What is used to surround multi-line Python strings?"
   ]
  },
  {
   "cell_type": "code",
   "execution_count": 8,
   "id": "bdcd5ee9-aa85-4b48-9c6e-e8a920cb8811",
   "metadata": {},
   "outputs": [
    {
     "data": {
      "text/plain": [
       "'Some string'"
      ]
     },
     "execution_count": 8,
     "metadata": {},
     "output_type": "execute_result"
    }
   ],
   "source": [
    "'''Some string'''"
   ]
  },
  {
   "cell_type": "code",
   "execution_count": null,
   "id": "13722882-733f-4da5-8963-d9ec3d339930",
   "metadata": {},
   "outputs": [],
   "source": []
  }
 ],
 "metadata": {
  "kernelspec": {
   "display_name": "Python 3 (ipykernel)",
   "language": "python",
   "name": "python3"
  },
  "language_info": {
   "codemirror_mode": {
    "name": "ipython",
    "version": 3
   },
   "file_extension": ".py",
   "mimetype": "text/x-python",
   "name": "python",
   "nbconvert_exporter": "python",
   "pygments_lexer": "ipython3",
   "version": "3.11.8"
  }
 },
 "nbformat": 4,
 "nbformat_minor": 5
}

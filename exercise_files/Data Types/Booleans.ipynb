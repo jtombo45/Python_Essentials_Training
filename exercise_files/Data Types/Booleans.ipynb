{
 "cells": [
  {
   "cell_type": "markdown",
   "id": "70fb54ee-226b-406f-b750-aad30258f150",
   "metadata": {},
   "source": [
    "# Booleans"
   ]
  },
  {
   "cell_type": "markdown",
   "id": "0c8ec2e1-5e98-4600-a1bb-86d1f8ecc6f8",
   "metadata": {},
   "source": [
    "#### Casting Booleans"
   ]
  },
  {
   "cell_type": "code",
   "execution_count": 1,
   "id": "9d25ee9d-fc6f-4ed2-ae76-4c8ec9cae8ff",
   "metadata": {},
   "outputs": [
    {
     "data": {
      "text/plain": [
       "True"
      ]
     },
     "execution_count": 1,
     "metadata": {},
     "output_type": "execute_result"
    }
   ],
   "source": [
    "bool(1)"
   ]
  },
  {
   "cell_type": "code",
   "execution_count": 2,
   "id": "38ef2640-3804-453d-9a3c-b344c94f1bea",
   "metadata": {},
   "outputs": [
    {
     "data": {
      "text/plain": [
       "False"
      ]
     },
     "execution_count": 2,
     "metadata": {},
     "output_type": "execute_result"
    }
   ],
   "source": [
    "bool(0)"
   ]
  },
  {
   "cell_type": "code",
   "execution_count": 6,
   "id": "ebb974b4-d78d-4478-9ca0-3942772ff150",
   "metadata": {},
   "outputs": [
    {
     "data": {
      "text/plain": [
       "True"
      ]
     },
     "execution_count": 6,
     "metadata": {},
     "output_type": "execute_result"
    }
   ],
   "source": [
    "bool(-1)"
   ]
  },
  {
   "cell_type": "code",
   "execution_count": 7,
   "id": "08439f71-39e2-4a32-a4ec-5d83f58dd6b3",
   "metadata": {},
   "outputs": [
    {
     "data": {
      "text/plain": [
       "True"
      ]
     },
     "execution_count": 7,
     "metadata": {},
     "output_type": "execute_result"
    }
   ],
   "source": [
    "bool(1j)"
   ]
  },
  {
   "cell_type": "code",
   "execution_count": 8,
   "id": "c8878bb7-9238-4bda-b58f-943045ac8716",
   "metadata": {},
   "outputs": [
    {
     "data": {
      "text/plain": [
       "False"
      ]
     },
     "execution_count": 8,
     "metadata": {},
     "output_type": "execute_result"
    }
   ],
   "source": [
    "bool(0.0)"
   ]
  },
  {
   "cell_type": "code",
   "execution_count": 9,
   "id": "e5261047-6a88-49ac-a881-23e7b1afd047",
   "metadata": {},
   "outputs": [
    {
     "data": {
      "text/plain": [
       "False"
      ]
     },
     "execution_count": 9,
     "metadata": {},
     "output_type": "execute_result"
    }
   ],
   "source": [
    "bool(0j)"
   ]
  },
  {
   "cell_type": "code",
   "execution_count": 10,
   "id": "d1d9eb09-e6e1-4b2b-b2e7-175146d45480",
   "metadata": {},
   "outputs": [
    {
     "data": {
      "text/plain": [
       "True"
      ]
     },
     "execution_count": 10,
     "metadata": {},
     "output_type": "execute_result"
    }
   ],
   "source": [
    "bool('True')"
   ]
  },
  {
   "cell_type": "code",
   "execution_count": 11,
   "id": "6496a684-27b3-465d-a215-b4d2b150837f",
   "metadata": {},
   "outputs": [
    {
     "data": {
      "text/plain": [
       "True"
      ]
     },
     "execution_count": 11,
     "metadata": {},
     "output_type": "execute_result"
    }
   ],
   "source": [
    "bool('False')"
   ]
  },
  {
   "cell_type": "code",
   "execution_count": 12,
   "id": "2e40fb14-6a75-4ddb-b097-4d68e4770812",
   "metadata": {},
   "outputs": [
    {
     "data": {
      "text/plain": [
       "False"
      ]
     },
     "execution_count": 12,
     "metadata": {},
     "output_type": "execute_result"
    }
   ],
   "source": [
    "bool('')"
   ]
  },
  {
   "cell_type": "code",
   "execution_count": 13,
   "id": "3d4d4d07-7a37-4daf-a9f6-230b6a30f1f7",
   "metadata": {},
   "outputs": [
    {
     "data": {
      "text/plain": [
       "False"
      ]
     },
     "execution_count": 13,
     "metadata": {},
     "output_type": "execute_result"
    }
   ],
   "source": [
    "bool([])"
   ]
  },
  {
   "cell_type": "code",
   "execution_count": 14,
   "id": "b50676cd-373e-4bcc-be59-322390133931",
   "metadata": {},
   "outputs": [
    {
     "data": {
      "text/plain": [
       "True"
      ]
     },
     "execution_count": 14,
     "metadata": {},
     "output_type": "execute_result"
    }
   ],
   "source": [
    "bool([1])"
   ]
  },
  {
   "cell_type": "code",
   "execution_count": 15,
   "id": "c4af0f39-2e6a-4847-ab62-4dd6d0a7e400",
   "metadata": {},
   "outputs": [
    {
     "data": {
      "text/plain": [
       "False"
      ]
     },
     "execution_count": 15,
     "metadata": {},
     "output_type": "execute_result"
    }
   ],
   "source": [
    "bool({})"
   ]
  },
  {
   "cell_type": "code",
   "execution_count": 16,
   "id": "0b4d81ed-c15e-4729-95ee-29836993610a",
   "metadata": {},
   "outputs": [
    {
     "data": {
      "text/plain": [
       "False"
      ]
     },
     "execution_count": 16,
     "metadata": {},
     "output_type": "execute_result"
    }
   ],
   "source": [
    "bool(None)"
   ]
  },
  {
   "cell_type": "code",
   "execution_count": 17,
   "id": "04b8eaa0-12a1-4eb4-8830-b90967d21bb7",
   "metadata": {},
   "outputs": [
    {
     "name": "stdout",
     "output_type": "stream",
     "text": [
      "MyList has some values in it!\n"
     ]
    }
   ],
   "source": [
    "myList = [1,2]\n",
    "if myList:\n",
    "    print('MyList has some values in it!')"
   ]
  },
  {
   "cell_type": "code",
   "execution_count": 18,
   "id": "49fed560-85cd-46ba-8ea2-6eb8451d1bbb",
   "metadata": {},
   "outputs": [],
   "source": [
    "a = 5\n",
    "b = 5\n",
    "if a - b:\n",
    "    print('a and b are not equal')"
   ]
  },
  {
   "cell_type": "code",
   "execution_count": 19,
   "id": "80dff812-f973-4692-beba-f7e315d270ed",
   "metadata": {},
   "outputs": [
    {
     "data": {
      "text/plain": [
       "True"
      ]
     },
     "execution_count": 19,
     "metadata": {},
     "output_type": "execute_result"
    }
   ],
   "source": [
    "a == b"
   ]
  },
  {
   "cell_type": "markdown",
   "id": "bc927381-c8ef-4ba4-a5e8-819c09e343ba",
   "metadata": {},
   "source": [
    "#### Boolean Logic"
   ]
  },
  {
   "cell_type": "code",
   "execution_count": 23,
   "id": "0412acc6-d58b-4a38-8af3-b163b94adefc",
   "metadata": {},
   "outputs": [],
   "source": [
    "def decisionMaker(weatherIsNice, haveUmbrella):\n",
    "    if not weatherIsNice and not haveUmbrella:\n",
    "        print('Stay inside')\n",
    "    else:\n",
    "        print('Go for a walk')"
   ]
  },
  {
   "cell_type": "code",
   "execution_count": 25,
   "id": "9cb7a829-63d3-426b-881f-54086327f406",
   "metadata": {},
   "outputs": [],
   "source": [
    "def decisionMaker(weatherIsNice, haveUmbrella):\n",
    "    if weatherIsNice or haveUmbrella:\n",
    "        print('Go for a walk')\n",
    "    else:\n",
    "        print('Stay inside')"
   ]
  },
  {
   "cell_type": "code",
   "execution_count": 26,
   "id": "b4df14a7-c358-4fc9-91cd-84ea92abc2e4",
   "metadata": {},
   "outputs": [
    {
     "name": "stdout",
     "output_type": "stream",
     "text": [
      "Stay inside\n",
      "Go for a walk\n",
      "Go for a walk\n",
      "Go for a walk\n"
     ]
    }
   ],
   "source": [
    "\n",
    "# Stay Inside\n",
    "decisionMaker(False,False) \n",
    "\n",
    "# Go for a walk\n",
    "decisionMaker(False,True)\n",
    "\n",
    "# Go for a walk\n",
    "decisionMaker(True,False)\n",
    "\n",
    "# Go for a walk\n",
    "decisionMaker(True,True)\n"
   ]
  },
  {
   "cell_type": "code",
   "execution_count": null,
   "id": "d80f6fbb-08d8-4f89-a1cf-f47b3175ad3e",
   "metadata": {},
   "outputs": [],
   "source": []
  }
 ],
 "metadata": {
  "kernelspec": {
   "display_name": "Python 3 (ipykernel)",
   "language": "python",
   "name": "python3"
  },
  "language_info": {
   "codemirror_mode": {
    "name": "ipython",
    "version": 3
   },
   "file_extension": ".py",
   "mimetype": "text/x-python",
   "name": "python",
   "nbconvert_exporter": "python",
   "pygments_lexer": "ipython3",
   "version": "3.11.8"
  }
 },
 "nbformat": 4,
 "nbformat_minor": 5
}

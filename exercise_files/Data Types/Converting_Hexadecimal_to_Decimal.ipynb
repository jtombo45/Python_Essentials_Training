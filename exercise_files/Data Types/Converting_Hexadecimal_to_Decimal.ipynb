{
 "cells": [
  {
   "cell_type": "markdown",
   "id": "1865192c-c4be-4b43-a1d1-a7404f49d126",
   "metadata": {},
   "source": [
    "# Converting Hexadecimal to Decimal\n",
    "A = 10\n",
    "B = 11\n",
    "C = 12\n",
    "D = 13\n",
    "F = 15\n",
    "\n",
    "1A in hexadecimal would be 26 in decimal: 1 represent the sixteens place: 1 (16) + A (10) = 26\n",
    "\n",
    "Just like decimal has the \"hundreds\" place (10*10 is 100), hexadecimal has the 256s place (because 16 * 16 is 256). \n",
    "\n",
    "So 'ABC' in hexadecimal is (256 * 10) + (16 * 11) + (1 * 12) or 2,748"
   ]
  },
  {
   "cell_type": "code",
   "execution_count": 1,
   "id": "dee3c7fc-421f-42fa-b5ca-112f3544892b",
   "metadata": {},
   "outputs": [],
   "source": [
    "hexadecimal = {\n",
    "    '0': 0,\n",
    "    '1': 1,\n",
    "    '2': 2,\n",
    "    '3': 3,\n",
    "    '4': 4,\n",
    "    '5': 5,\n",
    "    '6': 6,\n",
    "    '7': 7,\n",
    "    '8': 8,\n",
    "    '9': 9,\n",
    "    'A': 10,\n",
    "    'B': 11,\n",
    "    'C': 12,\n",
    "    'D': 13,\n",
    "    'E': 14,\n",
    "    'F': 15\n",
    "}"
   ]
  },
  {
   "cell_type": "code",
   "execution_count": 50,
   "id": "6e159552-42e3-4fd9-a150-0f30ea6243a8",
   "metadata": {},
   "outputs": [],
   "source": [
    "# Function that converts string hexadecimal number into an integer decimal \n",
    "# If hexNum is not a valid hexadecimal number, return None\n",
    "# 2 pointer approach\n",
    "def hexToDec(hexNum):\n",
    "    result = 0\n",
    "    post = len(hexNum)-1 # -> 2 1 0\n",
    "    i = 0\n",
    "    print()\n",
    "\n",
    "    while post >= 0:\n",
    "        if hexNum[i] not in hexadecimal:\n",
    "            return  None\n",
    "        result += pow(16,post) * hexadecimal[hexNum[i]] # or result += (16**post) * hexadecimal[hexNum[i]] \n",
    "        post -= 1\n",
    "        i += 1\n",
    "    return result\n",
    "        "
   ]
  },
  {
   "cell_type": "code",
   "execution_count": 51,
   "id": "0d57d68f-3938-4606-bec9-7e6207dccf9d",
   "metadata": {},
   "outputs": [
    {
     "name": "stdout",
     "output_type": "stream",
     "text": [
      "\n"
     ]
    },
    {
     "data": {
      "text/plain": [
       "10"
      ]
     },
     "execution_count": 51,
     "metadata": {},
     "output_type": "execute_result"
    }
   ],
   "source": [
    "# 10\n",
    "hexToDec('A')"
   ]
  },
  {
   "cell_type": "code",
   "execution_count": 52,
   "id": "19193fb1-3c54-49b4-a266-b4e2fdf3f931",
   "metadata": {},
   "outputs": [
    {
     "name": "stdout",
     "output_type": "stream",
     "text": [
      "\n"
     ]
    },
    {
     "data": {
      "text/plain": [
       "0"
      ]
     },
     "execution_count": 52,
     "metadata": {},
     "output_type": "execute_result"
    }
   ],
   "source": [
    "# 0\n",
    "hexToDec('0')"
   ]
  },
  {
   "cell_type": "code",
   "execution_count": 53,
   "id": "7bc97810-58f0-4b1a-86cc-9a001a6a6e07",
   "metadata": {},
   "outputs": [
    {
     "name": "stdout",
     "output_type": "stream",
     "text": [
      "\n"
     ]
    },
    {
     "data": {
      "text/plain": [
       "27"
      ]
     },
     "execution_count": 53,
     "metadata": {},
     "output_type": "execute_result"
    }
   ],
   "source": [
    "# 27\n",
    "hexToDec('1B') "
   ]
  },
  {
   "cell_type": "code",
   "execution_count": 54,
   "id": "1371dcf0-611a-44c4-9203-ef5e2e7feca4",
   "metadata": {},
   "outputs": [
    {
     "name": "stdout",
     "output_type": "stream",
     "text": [
      "\n"
     ]
    },
    {
     "data": {
      "text/plain": [
       "960"
      ]
     },
     "execution_count": 54,
     "metadata": {},
     "output_type": "execute_result"
    }
   ],
   "source": [
    "# 960\n",
    "hexToDec('3C0')"
   ]
  },
  {
   "cell_type": "code",
   "execution_count": 55,
   "id": "247584b3-fcbe-45bc-a555-053070dd18ea",
   "metadata": {},
   "outputs": [
    {
     "name": "stdout",
     "output_type": "stream",
     "text": [
      "\n"
     ]
    }
   ],
   "source": [
    "# None\n",
    "hexToDec('A6G')"
   ]
  },
  {
   "cell_type": "code",
   "execution_count": 56,
   "id": "370e5ee6-73eb-4b04-b44a-91a403d1b315",
   "metadata": {},
   "outputs": [
    {
     "name": "stdout",
     "output_type": "stream",
     "text": [
      "\n"
     ]
    }
   ],
   "source": [
    "# None\n",
    "hexToDec('ZZTOP')"
   ]
  },
  {
   "cell_type": "code",
   "execution_count": 57,
   "id": "4797c4e6-be9f-4f93-939c-f52be910934f",
   "metadata": {},
   "outputs": [
    {
     "name": "stdout",
     "output_type": "stream",
     "text": [
      "\n"
     ]
    },
    {
     "data": {
      "text/plain": [
       "11179"
      ]
     },
     "execution_count": 57,
     "metadata": {},
     "output_type": "execute_result"
    }
   ],
   "source": [
    "# 11179\n",
    "hexToDec('2BAB')"
   ]
  },
  {
   "cell_type": "code",
   "execution_count": 58,
   "id": "9ce45cdd-c2a3-4ed9-8cf0-307d7388f6ab",
   "metadata": {},
   "outputs": [
    {
     "data": {
      "text/plain": [
       "5"
      ]
     },
     "execution_count": 58,
     "metadata": {},
     "output_type": "execute_result"
    }
   ],
   "source": [
    "int('101', 2) # 2^0 + 2^2 = 1 + 4 = 5"
   ]
  },
  {
   "cell_type": "code",
   "execution_count": 59,
   "id": "ce08e7eb-7096-4bba-a8e5-f419f7daaa88",
   "metadata": {},
   "outputs": [
    {
     "data": {
      "text/plain": [
       "8"
      ]
     },
     "execution_count": 59,
     "metadata": {},
     "output_type": "execute_result"
    }
   ],
   "source": [
    "int(8.7)"
   ]
  },
  {
   "cell_type": "code",
   "execution_count": 60,
   "id": "c42b3ca8-112b-4431-af15-0b9d58bddbb9",
   "metadata": {},
   "outputs": [
    {
     "data": {
      "text/plain": [
       "True"
      ]
     },
     "execution_count": 60,
     "metadata": {},
     "output_type": "execute_result"
    }
   ],
   "source": [
    "bool(-1) == 1"
   ]
  },
  {
   "cell_type": "code",
   "execution_count": 61,
   "id": "e88f301a-b203-4c92-bf59-88cbfeb060c6",
   "metadata": {},
   "outputs": [
    {
     "data": {
      "text/plain": [
       "b'\\x00\\x00\\x00\\x00'"
      ]
     },
     "execution_count": 61,
     "metadata": {},
     "output_type": "execute_result"
    }
   ],
   "source": [
    "bytes(4) #It creates an empty bytes object 4 bytes long."
   ]
  },
  {
   "cell_type": "code",
   "execution_count": null,
   "id": "78c24e97-64ba-4788-92ff-0d6241a5eca2",
   "metadata": {},
   "outputs": [],
   "source": []
  }
 ],
 "metadata": {
  "kernelspec": {
   "display_name": "Python 3 (ipykernel)",
   "language": "python",
   "name": "python3"
  },
  "language_info": {
   "codemirror_mode": {
    "name": "ipython",
    "version": 3
   },
   "file_extension": ".py",
   "mimetype": "text/x-python",
   "name": "python",
   "nbconvert_exporter": "python",
   "pygments_lexer": "ipython3",
   "version": "3.11.8"
  }
 },
 "nbformat": 4,
 "nbformat_minor": 5
}

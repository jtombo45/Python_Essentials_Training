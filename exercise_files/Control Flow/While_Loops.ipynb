{
 "cells": [
  {
   "cell_type": "markdown",
   "id": "7bf6f39b-038d-4271-b25a-6be89a35b93e",
   "metadata": {},
   "source": [
    "# While loops"
   ]
  },
  {
   "cell_type": "code",
   "execution_count": 28,
   "id": "5da23798-b90f-4744-b1c7-ade26f444c25",
   "metadata": {},
   "outputs": [],
   "source": [
    "from datetime import datetime"
   ]
  },
  {
   "cell_type": "code",
   "execution_count": 30,
   "id": "ecc8ae8f-6d62-4665-8b89-dc30720c17d4",
   "metadata": {},
   "outputs": [
    {
     "data": {
      "text/plain": [
       "2"
      ]
     },
     "execution_count": 30,
     "metadata": {},
     "output_type": "execute_result"
    }
   ],
   "source": [
    "datetime.now().second"
   ]
  },
  {
   "cell_type": "code",
   "execution_count": 19,
   "id": "7a485c36-c23f-4602-a718-34eb7d4cff6d",
   "metadata": {},
   "outputs": [],
   "source": [
    "wait_until = datetime.now().second + 2"
   ]
  },
  {
   "cell_type": "markdown",
   "id": "2562c5e1-98e3-4e7b-8639-b3a08349955a",
   "metadata": {},
   "source": [
    "while datetime.now().second != wait_until:\n",
    "    1 + 1\n",
    "    # print('Still waiting!') \n",
    "print(f'We are at {wait_unitl} seconds!')"
   ]
  },
  {
   "cell_type": "markdown",
   "id": "5fed0820-f605-4958-a026-3ca5c411b9e3",
   "metadata": {},
   "source": [
    "#### Pass"
   ]
  },
  {
   "cell_type": "code",
   "execution_count": null,
   "id": "bb45235f-421d-4f97-b2a4-9a7c924bd586",
   "metadata": {},
   "outputs": [],
   "source": [
    "while datetime.now().second != wait_until:\n",
    "    pass\n",
    "print(f'We are at {wait_unitl} seconds!')"
   ]
  },
  {
   "cell_type": "markdown",
   "id": "9d5827f3-2d72-4dae-8cc4-4e32dc17d658",
   "metadata": {},
   "source": [
    "#### Break"
   ]
  },
  {
   "cell_type": "code",
   "execution_count": 21,
   "id": "d0cf4ba9-8409-4f88-a972-0d8a20a5c8f0",
   "metadata": {},
   "outputs": [
    {
     "name": "stdout",
     "output_type": "stream",
     "text": [
      "We are at 12 seconds!\n"
     ]
    }
   ],
   "source": [
    "wait_until = datetime.now().second + 2\n",
    "\n",
    "while True:\n",
    "    if datetime.now().second == wait_until:\n",
    "        print(f'We are at {wait_until} seconds!')\n",
    "        break"
   ]
  },
  {
   "cell_type": "code",
   "execution_count": 25,
   "id": "2f971875-7dfa-4549-96fc-652a9555e202",
   "metadata": {},
   "outputs": [],
   "source": [
    "wait_until = datetime.now().second + 2\n",
    "\n",
    "while True:\n",
    "    while datetime.now().second == wait_until:\n",
    "        print(f'We are at {wait_until} seconds!')\n",
    "        break\n",
    "    break"
   ]
  },
  {
   "cell_type": "code",
   "execution_count": null,
   "id": "2d15b05a-9cf1-462d-8cc8-f5334b9e1075",
   "metadata": {},
   "outputs": [],
   "source": []
  },
  {
   "cell_type": "markdown",
   "id": "a76f3e47-d91d-401b-b7b3-bdaaf6e4db17",
   "metadata": {},
   "source": [
    "#### Continue\n"
   ]
  },
  {
   "cell_type": "code",
   "execution_count": 41,
   "id": "fdf3d525-ed69-41b9-af18-86e37ff44db7",
   "metadata": {},
   "outputs": [
    {
     "name": "stdout",
     "output_type": "stream",
     "text": [
      "We are at 22 seconds!\n"
     ]
    }
   ],
   "source": [
    "wait_until = datetime.now().second + 2\n",
    "\n",
    "while True:\n",
    "    if datetime.now().second == wait_until:\n",
    "        print(f'We are at {wait_until} seconds!')\n",
    "        continue\n",
    "    break\n",
    "print(f'We are at {wait_until} seconds!')"
   ]
  },
  {
   "cell_type": "code",
   "execution_count": null,
   "id": "839c6949-3609-45a2-8ee8-26f840dc0ef6",
   "metadata": {},
   "outputs": [],
   "source": []
  },
  {
   "cell_type": "code",
   "execution_count": null,
   "id": "d266b999-3aac-4827-a14a-760a1f9d3e1c",
   "metadata": {},
   "outputs": [],
   "source": []
  }
 ],
 "metadata": {
  "kernelspec": {
   "display_name": "Python 3 (ipykernel)",
   "language": "python",
   "name": "python3"
  },
  "language_info": {
   "codemirror_mode": {
    "name": "ipython",
    "version": 3
   },
   "file_extension": ".py",
   "mimetype": "text/x-python",
   "name": "python",
   "nbconvert_exporter": "python",
   "pygments_lexer": "ipython3",
   "version": "3.11.8"
  }
 },
 "nbformat": 4,
 "nbformat_minor": 5
}

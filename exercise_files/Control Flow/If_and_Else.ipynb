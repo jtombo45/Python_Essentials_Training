{
 "cells": [
  {
   "cell_type": "markdown",
   "id": "98bf3d30-0199-4a24-b259-475d4611508f",
   "metadata": {},
   "source": [
    "# If statements with \"FizzBuzz\""
   ]
  },
  {
   "cell_type": "code",
   "execution_count": 8,
   "id": "0435cb6a-0011-4434-b75f-907e35b8d123",
   "metadata": {},
   "outputs": [
    {
     "name": "stdout",
     "output_type": "stream",
     "text": [
      "1\n",
      "2\n",
      "Fizz\n",
      "4\n",
      "Buzz\n",
      "Fizz\n",
      "7\n",
      "8\n",
      "Fizz\n",
      "Buzz\n",
      "11\n",
      "Fizz\n",
      "13\n",
      "14\n",
      "FizzBuzz\n"
     ]
    }
   ],
   "source": [
    "# 1, 2, Fizz, 4, Buzz, Fizz, 7, 8, Fizz, Buzz, 11, Fizz, 13, FizzBuzz, 16\n",
    "for n in range(1,16):\n",
    "    if n % 15 == 0:\n",
    "        print('FizzBuzz')\n",
    "    else:\n",
    "        if n % 3 == 0:\n",
    "            print('Fizz')\n",
    "        else:\n",
    "            if n % 5 == 0:\n",
    "                print('Buzz')\n",
    "            else:\n",
    "                print(n)"
   ]
  },
  {
   "cell_type": "markdown",
   "id": "6150a3e4-7b24-4aa5-9550-f63a1644a341",
   "metadata": {},
   "source": [
    "# Elif statements"
   ]
  },
  {
   "cell_type": "code",
   "execution_count": 9,
   "id": "96bcf7d7-503f-451d-8614-aa9bfeabcde5",
   "metadata": {},
   "outputs": [
    {
     "name": "stdout",
     "output_type": "stream",
     "text": [
      "1\n",
      "2\n",
      "Fizz\n",
      "4\n",
      "Buzz\n",
      "Fizz\n",
      "7\n",
      "8\n",
      "Fizz\n",
      "Buzz\n",
      "11\n",
      "Fizz\n",
      "13\n",
      "14\n",
      "FizzBuzz\n"
     ]
    }
   ],
   "source": [
    "for n in range(1,16):\n",
    "    if n % 15 == 0:\n",
    "        print('FizzBuzz')\n",
    "    elif n % 3 == 0:\n",
    "        print('Fizz')\n",
    "    elif n % 5 == 0:\n",
    "        print('Buzz')\n",
    "    else:\n",
    "        print(n)"
   ]
  },
  {
   "cell_type": "markdown",
   "id": "32dbdbd0-c268-44cc-9f55-1f074b0b1cd8",
   "metadata": {},
   "source": [
    "# Single Line if statements"
   ]
  },
  {
   "cell_type": "code",
   "execution_count": 18,
   "id": "dce42f2d-afb6-4000-a735-5dee6379adc3",
   "metadata": {},
   "outputs": [
    {
     "name": "stdout",
     "output_type": "stream",
     "text": [
      "5\n"
     ]
    }
   ],
   "source": [
    "n = 5\n",
    "print('Fizz' if n % 3 == 0 else n)"
   ]
  },
  {
   "cell_type": "code",
   "execution_count": 19,
   "id": "d8ecba03-74ca-4288-b215-ec964b203334",
   "metadata": {},
   "outputs": [],
   "source": [
    "fizzBuzz = 'Fizz' if n % 3 == 0 else n "
   ]
  },
  {
   "cell_type": "code",
   "execution_count": 20,
   "id": "2736e68e-a92a-442e-ba16-0918ba5e4a45",
   "metadata": {},
   "outputs": [
    {
     "data": {
      "text/plain": [
       "'Buzz'"
      ]
     },
     "execution_count": 20,
     "metadata": {},
     "output_type": "execute_result"
    }
   ],
   "source": [
    "'Fizz' if n % 3 == 0 else 'Buzz' if n % 5 == 0 else n"
   ]
  },
  {
   "cell_type": "code",
   "execution_count": 21,
   "id": "57e8a534-3854-4bd3-aa6c-a684382b329b",
   "metadata": {},
   "outputs": [
    {
     "data": {
      "text/plain": [
       "'Buzz'"
      ]
     },
     "execution_count": 21,
     "metadata": {},
     "output_type": "execute_result"
    }
   ],
   "source": [
    "'FizzBuzz' if n % 15 == 0 else 'Fizz' if n % 3 == 0 else 'Buzz' if n % 5 == 0 else n"
   ]
  },
  {
   "cell_type": "code",
   "execution_count": 22,
   "id": "5d5c6860-0066-4a9b-a9e6-5cce17c6b10c",
   "metadata": {},
   "outputs": [
    {
     "data": {
      "text/plain": [
       "[1,\n",
       " 2,\n",
       " 'Fizz',\n",
       " 4,\n",
       " 'Buzz',\n",
       " 'Fizz',\n",
       " 7,\n",
       " 8,\n",
       " 'Fizz',\n",
       " 'Buzz',\n",
       " 11,\n",
       " 'Fizz',\n",
       " 13,\n",
       " 14,\n",
       " 'FizzBuzz']"
      ]
     },
     "execution_count": 22,
     "metadata": {},
     "output_type": "execute_result"
    }
   ],
   "source": [
    "['FizzBuzz' if n % 15 == 0 else 'Fizz' if n % 3 == 0 else 'Buzz' if n % 5 == 0 else n for n in range(1,16)]"
   ]
  },
  {
   "cell_type": "code",
   "execution_count": null,
   "id": "720c9442-b65b-4b56-a1d5-4651fa545d5b",
   "metadata": {},
   "outputs": [],
   "source": []
  }
 ],
 "metadata": {
  "kernelspec": {
   "display_name": "Python 3 (ipykernel)",
   "language": "python",
   "name": "python3"
  },
  "language_info": {
   "codemirror_mode": {
    "name": "ipython",
    "version": 3
   },
   "file_extension": ".py",
   "mimetype": "text/x-python",
   "name": "python",
   "nbconvert_exporter": "python",
   "pygments_lexer": "ipython3",
   "version": "3.11.8"
  }
 },
 "nbformat": 4,
 "nbformat_minor": 5
}

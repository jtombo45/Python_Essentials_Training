{
 "cells": [
  {
   "cell_type": "markdown",
   "id": "7c99e8d1-92cb-4551-ba10-ccb9b51ccfaf",
   "metadata": {},
   "source": [
    "# Pass"
   ]
  },
  {
   "cell_type": "code",
   "execution_count": 2,
   "id": "79c7c5e8-7999-43d6-9b80-2b5c44b02ffb",
   "metadata": {},
   "outputs": [],
   "source": [
    "animalLookup = {\n",
    "    'a': ['aardvark','antelope'],\n",
    "    'b': ['bear'],\n",
    "    'c': ['cat'],\n",
    "    'd': ['dog'],\n",
    "}\n",
    "\n",
    "for letter, animals in animalLookup.items():\n",
    "    pass"
   ]
  },
  {
   "cell_type": "markdown",
   "id": "06d2de37-4cd2-4cff-ac38-18098b05702e",
   "metadata": {},
   "source": [
    "# Continue"
   ]
  },
  {
   "cell_type": "code",
   "execution_count": 5,
   "id": "261a643b-c408-4c9a-928b-fde5e05814a6",
   "metadata": {},
   "outputs": [
    {
     "name": "stdout",
     "output_type": "stream",
     "text": [
      "Only one animal! bear\n",
      "Only one animal! cat\n",
      "Only one animal! dog\n"
     ]
    }
   ],
   "source": [
    "for letter, animals in animalLookup.items():\n",
    "    if len(animals) > 1:\n",
    "        continue\n",
    "    print(f'Only one animal! {animals[0]}')"
   ]
  },
  {
   "cell_type": "code",
   "execution_count": null,
   "id": "6f7bfb00-12c1-46d7-8d55-65dbf0aa0ab9",
   "metadata": {},
   "outputs": [],
   "source": []
  },
  {
   "cell_type": "markdown",
   "id": "c70e4de2-6263-4dc5-9b08-7b439a534727",
   "metadata": {},
   "source": [
    "# Break"
   ]
  },
  {
   "cell_type": "code",
   "execution_count": 7,
   "id": "bec701c8-e0c1-4e36-9d70-c541ac958a6c",
   "metadata": {},
   "outputs": [
    {
     "name": "stdout",
     "output_type": "stream",
     "text": [
      "Found 2 animals: ['aardvark', 'antelope']\n"
     ]
    }
   ],
   "source": [
    "for letter, animals in animalLookup.items():\n",
    "    if len(animals) > 1:\n",
    "        print(f'Found {len(animals)} animals: {animals}')\n",
    "        break"
   ]
  },
  {
   "cell_type": "code",
   "execution_count": null,
   "id": "ab644373-3cb2-4607-8465-b7f7204ca6fb",
   "metadata": {},
   "outputs": [],
   "source": []
  },
  {
   "cell_type": "markdown",
   "id": "68a4b0c8-d823-4d20-972d-46db8386ff46",
   "metadata": {},
   "source": [
    "# For / Else"
   ]
  },
  {
   "cell_type": "code",
   "execution_count": 9,
   "id": "c5a33626-ed51-47e5-be22-da2510dc681c",
   "metadata": {},
   "outputs": [
    {
     "name": "stdout",
     "output_type": "stream",
     "text": [
      "1 is prime!\n",
      "2 is prime!\n",
      "3 is prime!\n",
      "number (5) % factor (2) == 0\n",
      "5 is prime!\n",
      "number (7) % factor (2) == 0\n",
      "7 is prime!\n",
      "number (9) % factor (2) == 0\n"
     ]
    }
   ],
   "source": [
    "# find all the prime range: 2-100\n",
    "for number in range(1,10):\n",
    "    for factor in range(2, int(number ** 0.5) + 1): # square root of the nbr + 1\n",
    "        if number % factor == 0:\n",
    "            break\n",
    "        else:\n",
    "            print(f'number ({number}) % factor ({factor}) == 0')\n",
    "    else:\n",
    "        print(f'{number} is prime!')\n",
    "    "
   ]
  },
  {
   "cell_type": "code",
   "execution_count": null,
   "id": "e745e05e-f792-4eaa-8e41-1087564e72ff",
   "metadata": {},
   "outputs": [],
   "source": []
  }
 ],
 "metadata": {
  "kernelspec": {
   "display_name": "Python 3 (ipykernel)",
   "language": "python",
   "name": "python3"
  },
  "language_info": {
   "codemirror_mode": {
    "name": "ipython",
    "version": 3
   },
   "file_extension": ".py",
   "mimetype": "text/x-python",
   "name": "python",
   "nbconvert_exporter": "python",
   "pygments_lexer": "ipython3",
   "version": "3.11.8"
  }
 },
 "nbformat": 4,
 "nbformat_minor": 5
}

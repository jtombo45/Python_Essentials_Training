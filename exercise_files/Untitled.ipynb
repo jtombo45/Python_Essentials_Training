{
 "cells": [
  {
   "cell_type": "code",
   "execution_count": null,
   "id": "25978c07-c2b3-4d75-834a-ade8e26dbb2e",
   "metadata": {},
   "outputs": [],
   "source": []
  }
 ],
 "metadata": {
  "kernelspec": {
   "display_name": "",
   "name": ""
  },
  "language_info": {
   "name": ""
  }
 },
 "nbformat": 4,
 "nbformat_minor": 5
}

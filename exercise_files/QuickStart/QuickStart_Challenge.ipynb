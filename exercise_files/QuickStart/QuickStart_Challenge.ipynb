{
 "cells": [
  {
   "cell_type": "code",
   "execution_count": null,
   "id": "7d8f1b31-0abc-4498-95e6-758e0dac467d",
   "metadata": {},
   "outputs": [],
   "source": [
    "'2'+'22'"
   ]
  },
  {
   "cell_type": "code",
   "execution_count": null,
   "id": "f9a3cf9d-30dc-4b3e-b0fa-a432b7861902",
   "metadata": {},
   "outputs": [],
   "source": [
    "class Dog:\n",
    "    def __init__(self, name):\n",
    "        self.name = name\n",
    "\n",
    "dog = Dog('Woofy')\n"
   ]
  },
  {
   "cell_type": "code",
   "execution_count": null,
   "id": "910b8e48-d232-4e60-b902-d0032e9310ba",
   "metadata": {},
   "outputs": [],
   "source": [
    "type(dog)"
   ]
  },
  {
   "cell_type": "code",
   "execution_count": null,
   "id": "d79f95f1-705a-4d35-bd07-577d03f89746",
   "metadata": {},
   "outputs": [],
   "source": [
    "type(Dog('Rover'))"
   ]
  },
  {
   "cell_type": "code",
   "execution_count": 1,
   "id": "2fa09653-78d0-4a55-94f9-0a555f39a032",
   "metadata": {},
   "outputs": [
    {
     "ename": "AttributeError",
     "evalue": "'tuple' object has no attribute 'append'",
     "output_type": "error",
     "traceback": [
      "\u001b[1;31m---------------------------------------------------------------------------\u001b[0m",
      "\u001b[1;31mAttributeError\u001b[0m                            Traceback (most recent call last)",
      "Cell \u001b[1;32mIn[1], line 2\u001b[0m\n\u001b[0;32m      1\u001b[0m var \u001b[38;5;241m=\u001b[39m (\u001b[38;5;241m1\u001b[39m,\u001b[38;5;241m2\u001b[39m,\u001b[38;5;241m3\u001b[39m)\n\u001b[1;32m----> 2\u001b[0m \u001b[43mvar\u001b[49m\u001b[38;5;241;43m.\u001b[39;49m\u001b[43mappend\u001b[49m(\u001b[38;5;241m4\u001b[39m)\n",
      "\u001b[1;31mAttributeError\u001b[0m: 'tuple' object has no attribute 'append'"
     ]
    }
   ],
   "source": [
    "var = (1,2,3)\n",
    "var.append(4)"
   ]
  },
  {
   "cell_type": "code",
   "execution_count": 2,
   "id": "462f97ee-8b3b-4fd8-b6bb-3a833c41ebdc",
   "metadata": {},
   "outputs": [
    {
     "data": {
      "text/plain": [
       "'4444'"
      ]
     },
     "execution_count": 2,
     "metadata": {},
     "output_type": "execute_result"
    }
   ],
   "source": [
    "'4' * 4"
   ]
  },
  {
   "cell_type": "code",
   "execution_count": null,
   "id": "607914ba-72f9-415c-b58f-1d12da87718e",
   "metadata": {},
   "outputs": [],
   "source": []
  }
 ],
 "metadata": {
  "kernelspec": {
   "display_name": "Python 3 (ipykernel)",
   "language": "python",
   "name": "python3"
  },
  "language_info": {
   "codemirror_mode": {
    "name": "ipython",
    "version": 3
   },
   "file_extension": ".py",
   "mimetype": "text/x-python",
   "name": "python",
   "nbconvert_exporter": "python",
   "pygments_lexer": "ipython3",
   "version": "3.11.8"
  }
 },
 "nbformat": 4,
 "nbformat_minor": 5
}

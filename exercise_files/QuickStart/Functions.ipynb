{
 "cells": [
  {
   "cell_type": "markdown",
   "id": "1c1c981e-bdea-484a-a2e1-052bfb18e6e1",
   "metadata": {},
   "source": [
    "# Functions"
   ]
  },
  {
   "cell_type": "code",
   "execution_count": null,
   "id": "fa0bb9ec-d41b-4070-955a-fc3ec3a0cdd9",
   "metadata": {},
   "outputs": [],
   "source": [
    "print('Hello world') # print is a function that takes a string as a parameter"
   ]
  },
  {
   "cell_type": "code",
   "execution_count": 1,
   "id": "a41b1d70-891e-40c4-9115-1cb308328291",
   "metadata": {},
   "outputs": [],
   "source": [
    "def multipleByThree(val):\n",
    "    return 3 * val"
   ]
  },
  {
   "cell_type": "code",
   "execution_count": 3,
   "id": "a2255326-d943-4285-8ec1-084188011de9",
   "metadata": {},
   "outputs": [
    {
     "data": {
      "text/plain": [
       "12"
      ]
     },
     "execution_count": 3,
     "metadata": {},
     "output_type": "execute_result"
    }
   ],
   "source": [
    "multipleByThree(4)"
   ]
  },
  {
   "cell_type": "code",
   "execution_count": 7,
   "id": "988499ef-f574-47c4-88f1-c3a1c30c49df",
   "metadata": {},
   "outputs": [],
   "source": [
    "def multiply(val1, val2):\n",
    "    return val1*val2"
   ]
  },
  {
   "cell_type": "code",
   "execution_count": 8,
   "id": "3f7b61c8-9b15-48c5-a0be-6477f6168d88",
   "metadata": {},
   "outputs": [
    {
     "data": {
      "text/plain": [
       "16"
      ]
     },
     "execution_count": 8,
     "metadata": {},
     "output_type": "execute_result"
    }
   ],
   "source": [
    "multiply(2,8)"
   ]
  },
  {
   "cell_type": "code",
   "execution_count": 9,
   "id": "e0f6cfb5-b036-4ab8-8d6a-1ad38f83668b",
   "metadata": {},
   "outputs": [
    {
     "data": {
      "text/plain": [
       "12"
      ]
     },
     "execution_count": 9,
     "metadata": {},
     "output_type": "execute_result"
    }
   ],
   "source": [
    "multiply(3,4)"
   ]
  },
  {
   "cell_type": "code",
   "execution_count": 10,
   "id": "ded61715-4123-4e38-bc17-91bc01944129",
   "metadata": {},
   "outputs": [
    {
     "name": "stdout",
     "output_type": "stream",
     "text": [
      "[1, 2, 3, 4]\n"
     ]
    }
   ],
   "source": [
    "a = [1,2,3]\n",
    "\n",
    "def appendFour(myList):\n",
    "    myList.append(4)\n",
    "appendFour(a)\n",
    "print(a)"
   ]
  },
  {
   "cell_type": "code",
   "execution_count": 11,
   "id": "24311d05-dac0-4c12-8425-cb496bff2625",
   "metadata": {},
   "outputs": [
    {
     "name": "stdout",
     "output_type": "stream",
     "text": [
      "Hello World\n",
      "None\n"
     ]
    }
   ],
   "source": [
    "print(print('Hello World'))"
   ]
  },
  {
   "cell_type": "markdown",
   "id": "572d513c-722b-480c-b400-d38801af181f",
   "metadata": {},
   "source": [
    "#### None represents an absence of a value"
   ]
  },
  {
   "cell_type": "code",
   "execution_count": null,
   "id": "5856afe3-dc4f-4487-bbb2-4d7f923381a0",
   "metadata": {},
   "outputs": [],
   "source": []
  }
 ],
 "metadata": {
  "kernelspec": {
   "display_name": "Python 3 (ipykernel)",
   "language": "python",
   "name": "python3"
  },
  "language_info": {
   "codemirror_mode": {
    "name": "ipython",
    "version": 3
   },
   "file_extension": ".py",
   "mimetype": "text/x-python",
   "name": "python",
   "nbconvert_exporter": "python",
   "pygments_lexer": "ipython3",
   "version": "3.11.8"
  }
 },
 "nbformat": 4,
 "nbformat_minor": 5
}

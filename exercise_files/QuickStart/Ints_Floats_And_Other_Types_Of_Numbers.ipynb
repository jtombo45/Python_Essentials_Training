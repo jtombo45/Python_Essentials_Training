{
 "cells": [
  {
   "cell_type": "markdown",
   "id": "8f05a2a2-1345-470b-84d4-599c6c6efc3e",
   "metadata": {},
   "source": [
    "# Ints and Floats"
   ]
  },
  {
   "cell_type": "code",
   "execution_count": 26,
   "id": "93edec0a-1f8f-4e5b-ad29-b2c0577aadda",
   "metadata": {},
   "outputs": [],
   "source": [
    "from decimal import Decimal, getcontext"
   ]
  },
  {
   "cell_type": "code",
   "execution_count": 1,
   "id": "0b1a50d2-c4f5-45a9-b148-9ca6f05b7caa",
   "metadata": {},
   "outputs": [
    {
     "data": {
      "text/plain": [
       "5.0"
      ]
     },
     "execution_count": 1,
     "metadata": {},
     "output_type": "execute_result"
    }
   ],
   "source": [
    "20 / 4"
   ]
  },
  {
   "cell_type": "code",
   "execution_count": 2,
   "id": "37d7372d-758b-4460-9086-50211249b9ea",
   "metadata": {},
   "outputs": [
    {
     "data": {
      "text/plain": [
       "8.0"
      ]
     },
     "execution_count": 2,
     "metadata": {},
     "output_type": "execute_result"
    }
   ],
   "source": [
    "4 + 4.0"
   ]
  },
  {
   "cell_type": "code",
   "execution_count": 3,
   "id": "af7cf966-c9fa-405b-ac87-f7faeaf1ee8b",
   "metadata": {},
   "outputs": [
    {
     "data": {
      "text/plain": [
       "16.0"
      ]
     },
     "execution_count": 3,
     "metadata": {},
     "output_type": "execute_result"
    }
   ],
   "source": [
    "4 * 4.0"
   ]
  },
  {
   "cell_type": "code",
   "execution_count": 4,
   "id": "fed0441e-7b2f-4fbe-b4a2-281ba53935a7",
   "metadata": {},
   "outputs": [
    {
     "data": {
      "text/plain": [
       "256.0"
      ]
     },
     "execution_count": 4,
     "metadata": {},
     "output_type": "execute_result"
    }
   ],
   "source": [
    "4 ** 4.0"
   ]
  },
  {
   "cell_type": "code",
   "execution_count": 8,
   "id": "518568a3-c754-49fc-91b8-3dd1534e89b0",
   "metadata": {},
   "outputs": [
    {
     "data": {
      "text/plain": [
       "256"
      ]
     },
     "execution_count": 8,
     "metadata": {},
     "output_type": "execute_result"
    }
   ],
   "source": [
    "pow(4,4)"
   ]
  },
  {
   "cell_type": "code",
   "execution_count": 7,
   "id": "72cfd480-fd6e-4881-8806-964de3e9f797",
   "metadata": {},
   "outputs": [
    {
     "data": {
      "text/plain": [
       "256"
      ]
     },
     "execution_count": 7,
     "metadata": {},
     "output_type": "execute_result"
    }
   ],
   "source": [
    "int( 4 ** 4.0)"
   ]
  },
  {
   "cell_type": "code",
   "execution_count": 9,
   "id": "3b5ca762-98e4-4147-b61e-06986d97a86c",
   "metadata": {},
   "outputs": [
    {
     "data": {
      "text/plain": [
       "8"
      ]
     },
     "execution_count": 9,
     "metadata": {},
     "output_type": "execute_result"
    }
   ],
   "source": [
    "int(8.9)"
   ]
  },
  {
   "cell_type": "code",
   "execution_count": 10,
   "id": "7f11614a-9c8f-4582-bdb2-a71ca332b698",
   "metadata": {},
   "outputs": [
    {
     "data": {
      "text/plain": [
       "8"
      ]
     },
     "execution_count": 10,
     "metadata": {},
     "output_type": "execute_result"
    }
   ],
   "source": [
    "int(8.99999999)"
   ]
  },
  {
   "cell_type": "code",
   "execution_count": 11,
   "id": "51298ef5-8916-48cc-811a-0743c9bf933a",
   "metadata": {},
   "outputs": [
    {
     "data": {
      "text/plain": [
       "4"
      ]
     },
     "execution_count": 11,
     "metadata": {},
     "output_type": "execute_result"
    }
   ],
   "source": [
    "int(14/3)"
   ]
  },
  {
   "cell_type": "code",
   "execution_count": 12,
   "id": "0c5f4a7e-ba93-475d-bd58-140aefb23c28",
   "metadata": {},
   "outputs": [
    {
     "data": {
      "text/plain": [
       "4.67"
      ]
     },
     "execution_count": 12,
     "metadata": {},
     "output_type": "execute_result"
    }
   ],
   "source": [
    "round(14/3,2)"
   ]
  },
  {
   "cell_type": "code",
   "execution_count": 13,
   "id": "38d0a10a-6cb2-4398-9e73-ecf569292be8",
   "metadata": {},
   "outputs": [
    {
     "data": {
      "text/plain": [
       "0.19999999999999996"
      ]
     },
     "execution_count": 13,
     "metadata": {},
     "output_type": "execute_result"
    }
   ],
   "source": [
    "1.2 - 1.0"
   ]
  },
  {
   "cell_type": "code",
   "execution_count": 14,
   "id": "48ae1ce1-6a21-42cf-a938-7243f4886234",
   "metadata": {},
   "outputs": [
    {
     "data": {
      "text/plain": [
       "4.666666666666667"
      ]
     },
     "execution_count": 14,
     "metadata": {},
     "output_type": "execute_result"
    }
   ],
   "source": [
    "14/3"
   ]
  },
  {
   "cell_type": "code",
   "execution_count": 15,
   "id": "0c74eff7-a6d6-4734-9669-c1051af7f29e",
   "metadata": {},
   "outputs": [
    {
     "data": {
      "text/plain": [
       "0.2"
      ]
     },
     "execution_count": 15,
     "metadata": {},
     "output_type": "execute_result"
    }
   ],
   "source": [
    "round(1.2 - 1.0, 2)"
   ]
  },
  {
   "cell_type": "markdown",
   "id": "23da4ebf-f5c9-415b-9715-8b02a2e120bd",
   "metadata": {},
   "source": [
    "# Integers"
   ]
  },
  {
   "cell_type": "code",
   "execution_count": 17,
   "id": "0847988d-25c4-4cb7-be91-607dd41d5051",
   "metadata": {},
   "outputs": [
    {
     "data": {
      "text/plain": [
       "100"
      ]
     },
     "execution_count": 17,
     "metadata": {},
     "output_type": "execute_result"
    }
   ],
   "source": [
    "int('100')"
   ]
  },
  {
   "cell_type": "code",
   "execution_count": 18,
   "id": "e3e1b449-a893-48ad-8459-9471371d85e7",
   "metadata": {},
   "outputs": [
    {
     "data": {
      "text/plain": [
       "4"
      ]
     },
     "execution_count": 18,
     "metadata": {},
     "output_type": "execute_result"
    }
   ],
   "source": [
    "int('100',2) # 2nd arguement is the base of the number that it should be converted from\n",
    "# 100 in binary represents 4 for base 2"
   ]
  },
  {
   "cell_type": "code",
   "execution_count": 19,
   "id": "9c708da4-e81d-4330-9075-01beaec00f40",
   "metadata": {},
   "outputs": [
    {
     "ename": "TypeError",
     "evalue": "int() can't convert non-string with explicit base",
     "output_type": "error",
     "traceback": [
      "\u001b[1;31m---------------------------------------------------------------------------\u001b[0m",
      "\u001b[1;31mTypeError\u001b[0m                                 Traceback (most recent call last)",
      "Cell \u001b[1;32mIn[19], line 1\u001b[0m\n\u001b[1;32m----> 1\u001b[0m \u001b[38;5;28;43mint\u001b[39;49m\u001b[43m(\u001b[49m\u001b[38;5;241;43m100\u001b[39;49m\u001b[43m,\u001b[49m\u001b[38;5;241;43m2\u001b[39;49m\u001b[43m)\u001b[49m\n",
      "\u001b[1;31mTypeError\u001b[0m: int() can't convert non-string with explicit base"
     ]
    }
   ],
   "source": [
    "int(100,2)"
   ]
  },
  {
   "cell_type": "code",
   "execution_count": 21,
   "id": "1dc88a64-119e-448d-8535-4bef7dbc59d7",
   "metadata": {},
   "outputs": [
    {
     "ename": "ValueError",
     "evalue": "invalid literal for int() with base 16: 'lab'",
     "output_type": "error",
     "traceback": [
      "\u001b[1;31m---------------------------------------------------------------------------\u001b[0m",
      "\u001b[1;31mValueError\u001b[0m                                Traceback (most recent call last)",
      "Cell \u001b[1;32mIn[21], line 1\u001b[0m\n\u001b[1;32m----> 1\u001b[0m \u001b[38;5;28;43mint\u001b[39;49m\u001b[43m(\u001b[49m\u001b[38;5;124;43m'\u001b[39;49m\u001b[38;5;124;43mlab\u001b[39;49m\u001b[38;5;124;43m'\u001b[39;49m\u001b[43m,\u001b[49m\u001b[38;5;241;43m16\u001b[39;49m\u001b[43m)\u001b[49m\n",
      "\u001b[1;31mValueError\u001b[0m: invalid literal for int() with base 16: 'lab'"
     ]
    }
   ],
   "source": [
    "int('lab',16)"
   ]
  },
  {
   "cell_type": "markdown",
   "id": "e4c8cb80-50a6-4616-b134-c1ddd0abebe0",
   "metadata": {},
   "source": [
    "#### Float point error, not good for working with money"
   ]
  },
  {
   "cell_type": "code",
   "execution_count": 22,
   "id": "95007c62-cab6-4469-a906-ef91716b6a60",
   "metadata": {},
   "outputs": [
    {
     "data": {
      "text/plain": [
       "0.19999999999999996"
      ]
     },
     "execution_count": 22,
     "metadata": {},
     "output_type": "execute_result"
    }
   ],
   "source": [
    "1.2 - 1.0"
   ]
  },
  {
   "cell_type": "markdown",
   "id": "2cfe6833-291c-4597-b1d0-1cb045d372f2",
   "metadata": {},
   "source": [
    "# Decimals"
   ]
  },
  {
   "cell_type": "code",
   "execution_count": 27,
   "id": "1b37b4a0-6c64-4702-abbc-9afd2893dcf0",
   "metadata": {},
   "outputs": [
    {
     "data": {
      "text/plain": [
       "Context(prec=28, rounding=ROUND_HALF_EVEN, Emin=-999999, Emax=999999, capitals=1, clamp=0, flags=[], traps=[InvalidOperation, DivisionByZero, Overflow])"
      ]
     },
     "execution_count": 27,
     "metadata": {},
     "output_type": "execute_result"
    }
   ],
   "source": [
    "getcontext()"
   ]
  },
  {
   "cell_type": "code",
   "execution_count": 28,
   "id": "4849a45c-165a-4302-b215-0e31438f891e",
   "metadata": {},
   "outputs": [],
   "source": [
    "getcontext().prec=4"
   ]
  },
  {
   "cell_type": "code",
   "execution_count": 30,
   "id": "2f9f4b97-4917-4918-8e7d-0abd9b241c12",
   "metadata": {},
   "outputs": [
    {
     "data": {
      "text/plain": [
       "Context(prec=4, rounding=ROUND_HALF_EVEN, Emin=-999999, Emax=999999, capitals=1, clamp=0, flags=[], traps=[InvalidOperation, DivisionByZero, Overflow])"
      ]
     },
     "execution_count": 30,
     "metadata": {},
     "output_type": "execute_result"
    }
   ],
   "source": [
    "getcontext()"
   ]
  },
  {
   "cell_type": "code",
   "execution_count": 31,
   "id": "11e6c521-ec89-45b1-a13b-a7ae8ff48555",
   "metadata": {},
   "outputs": [
    {
     "data": {
      "text/plain": [
       "Decimal('0.3333')"
      ]
     },
     "execution_count": 31,
     "metadata": {},
     "output_type": "execute_result"
    }
   ],
   "source": [
    "Decimal(1) / Decimal(3)"
   ]
  },
  {
   "cell_type": "code",
   "execution_count": 32,
   "id": "989ac7cc-de9a-4b81-bbd0-2478cea80f6b",
   "metadata": {},
   "outputs": [],
   "source": [
    "getcontext().prec=2\n"
   ]
  },
  {
   "cell_type": "code",
   "execution_count": 33,
   "id": "d0c93a72-b06d-446a-b80a-e762d7121424",
   "metadata": {},
   "outputs": [
    {
     "data": {
      "text/plain": [
       "Decimal('0.33')"
      ]
     },
     "execution_count": 33,
     "metadata": {},
     "output_type": "execute_result"
    }
   ],
   "source": [
    "Decimal(1) / Decimal(3)"
   ]
  },
  {
   "cell_type": "code",
   "execution_count": 34,
   "id": "01bb13e1-43d4-4842-9675-42b7bf7a91a0",
   "metadata": {},
   "outputs": [
    {
     "data": {
      "text/plain": [
       "Decimal('3.140000000000000124344978758017532527446746826171875')"
      ]
     },
     "execution_count": 34,
     "metadata": {},
     "output_type": "execute_result"
    }
   ],
   "source": [
    "Decimal(3.14)"
   ]
  },
  {
   "cell_type": "code",
   "execution_count": 35,
   "id": "861ac989-0b03-4e7c-8004-12928cda70d4",
   "metadata": {},
   "outputs": [
    {
     "data": {
      "text/plain": [
       "Decimal('3.14')"
      ]
     },
     "execution_count": 35,
     "metadata": {},
     "output_type": "execute_result"
    }
   ],
   "source": [
    "Decimal('3.14')"
   ]
  },
  {
   "cell_type": "code",
   "execution_count": 36,
   "id": "b4bb2a8a-8559-4212-914e-9e5ff8e17f2d",
   "metadata": {},
   "outputs": [
    {
     "data": {
      "text/plain": [
       "0.2"
      ]
     },
     "execution_count": 36,
     "metadata": {},
     "output_type": "execute_result"
    }
   ],
   "source": [
    "round(1.2 - 1.0, 2)"
   ]
  },
  {
   "cell_type": "code",
   "execution_count": null,
   "id": "8253a613-ab4d-468f-b988-f8ba46046b4e",
   "metadata": {},
   "outputs": [],
   "source": []
  }
 ],
 "metadata": {
  "kernelspec": {
   "display_name": "Python 3 (ipykernel)",
   "language": "python",
   "name": "python3"
  },
  "language_info": {
   "codemirror_mode": {
    "name": "ipython",
    "version": 3
   },
   "file_extension": ".py",
   "mimetype": "text/x-python",
   "name": "python",
   "nbconvert_exporter": "python",
   "pygments_lexer": "ipython3",
   "version": "3.11.8"
  }
 },
 "nbformat": 4,
 "nbformat_minor": 5
}

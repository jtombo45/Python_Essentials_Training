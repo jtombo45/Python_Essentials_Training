{
 "cells": [
  {
   "cell_type": "markdown",
   "id": "5514c828-4ed0-4ad8-9694-38c7a9d952ed",
   "metadata": {},
   "source": [
    "# Data Structures"
   ]
  },
  {
   "cell_type": "markdown",
   "id": "5075b20e-115d-4981-9e87-df5621b1fe21",
   "metadata": {},
   "source": [
    "## Lists"
   ]
  },
  {
   "cell_type": "code",
   "execution_count": 29,
   "id": "0dfce51f-5ed4-48d3-a0eb-a703e67a3c68",
   "metadata": {},
   "outputs": [
    {
     "name": "stdout",
     "output_type": "stream",
     "text": [
      "[1, 2, 3, 4]\n"
     ]
    }
   ],
   "source": [
    "my_list = [1,2,3,4]\n",
    "print(my_list)"
   ]
  },
  {
   "cell_type": "code",
   "execution_count": 30,
   "id": "c95b00b0-08e6-45ac-9c1a-37e6e123751c",
   "metadata": {},
   "outputs": [],
   "source": [
    "my_list = ['list','of','strings']"
   ]
  },
  {
   "cell_type": "code",
   "execution_count": 31,
   "id": "8cc10b9a-e5df-4a7a-bcb2-f01f48884388",
   "metadata": {},
   "outputs": [
    {
     "name": "stdout",
     "output_type": "stream",
     "text": [
      "[1, 'list', True, [1, 2, 3], [[1, 2, 3], [False, True], 'cool']]\n",
      "<class 'list'>\n"
     ]
    }
   ],
   "source": [
    "my_list = [1,'list', True, [1,2,3], [[1,2,3],[False, True], 'cool']]\n",
    "print(my_list)\n",
    "print(type(my_list))\n"
   ]
  },
  {
   "cell_type": "code",
   "execution_count": 9,
   "id": "691eb122-672f-4435-9c6a-e34cfa4778f8",
   "metadata": {},
   "outputs": [
    {
     "data": {
      "text/plain": [
       "5"
      ]
     },
     "execution_count": 9,
     "metadata": {},
     "output_type": "execute_result"
    }
   ],
   "source": [
    "len(my_list)"
   ]
  },
  {
   "cell_type": "markdown",
   "id": "cf9397fb-adbb-46d2-ab0f-ca57c31a9b96",
   "metadata": {},
   "source": [
    "## Sets"
   ]
  },
  {
   "cell_type": "markdown",
   "id": "d1f3d3c3-98f5-4a38-95d3-f010f60e37bd",
   "metadata": {},
   "source": [
    "### All the elements in the set must be unique"
   ]
  },
  {
   "cell_type": "code",
   "execution_count": 10,
   "id": "c0242c94-25ff-4d57-b65a-08d96f8fd036",
   "metadata": {},
   "outputs": [
    {
     "name": "stdout",
     "output_type": "stream",
     "text": [
      "{1, 2, 3, 4, 5}\n"
     ]
    }
   ],
   "source": [
    "my_set = {1,2,3,4,5}\n",
    "print(my_set)"
   ]
  },
  {
   "cell_type": "code",
   "execution_count": 11,
   "id": "27c20ad8-084e-40d7-a4ca-010b22c746d9",
   "metadata": {},
   "outputs": [
    {
     "data": {
      "text/plain": [
       "set"
      ]
     },
     "execution_count": 11,
     "metadata": {},
     "output_type": "execute_result"
    }
   ],
   "source": [
    "type(my_set)"
   ]
  },
  {
   "cell_type": "code",
   "execution_count": 12,
   "id": "4795540a-7c74-463e-a58c-751cc2051803",
   "metadata": {},
   "outputs": [
    {
     "data": {
      "text/plain": [
       "5"
      ]
     },
     "execution_count": 12,
     "metadata": {},
     "output_type": "execute_result"
    }
   ],
   "source": [
    "len(my_set)"
   ]
  },
  {
   "cell_type": "code",
   "execution_count": 13,
   "id": "7bb0bd70-89b9-4702-bf94-2b01a2eb5d86",
   "metadata": {},
   "outputs": [
    {
     "data": {
      "text/plain": [
       "2"
      ]
     },
     "execution_count": 13,
     "metadata": {},
     "output_type": "execute_result"
    }
   ],
   "source": [
    "my_set = {1,1,2,2}\n",
    "len(my_set)"
   ]
  },
  {
   "cell_type": "code",
   "execution_count": 14,
   "id": "8aad7685-dfa3-4f71-9198-4662f9c15673",
   "metadata": {},
   "outputs": [
    {
     "name": "stdout",
     "output_type": "stream",
     "text": [
      "{1, 2}\n"
     ]
    }
   ],
   "source": [
    "print(my_set)"
   ]
  },
  {
   "cell_type": "code",
   "execution_count": 20,
   "id": "477a65d2-fad5-4ec2-9fa1-d66f80e66a19",
   "metadata": {},
   "outputs": [
    {
     "data": {
      "text/plain": [
       "True"
      ]
     },
     "execution_count": 20,
     "metadata": {},
     "output_type": "execute_result"
    }
   ],
   "source": [
    "[1,2] == [1,2]"
   ]
  },
  {
   "cell_type": "code",
   "execution_count": 21,
   "id": "105e5871-7c73-4cec-8678-e68c790662ea",
   "metadata": {},
   "outputs": [
    {
     "data": {
      "text/plain": [
       "False"
      ]
     },
     "execution_count": 21,
     "metadata": {},
     "output_type": "execute_result"
    }
   ],
   "source": [
    "[1,2] == [2,1]"
   ]
  },
  {
   "cell_type": "markdown",
   "id": "961ab0c3-7d11-437b-9702-e9f5f3494970",
   "metadata": {},
   "source": [
    "##### In sets order of elements don't matter"
   ]
  },
  {
   "cell_type": "code",
   "execution_count": 22,
   "id": "993fb5b6-621f-48f9-b52b-ce75ff444d95",
   "metadata": {},
   "outputs": [
    {
     "data": {
      "text/plain": [
       "True"
      ]
     },
     "execution_count": 22,
     "metadata": {},
     "output_type": "execute_result"
    }
   ],
   "source": [
    "{1,2} == {2,1}"
   ]
  },
  {
   "cell_type": "code",
   "execution_count": 23,
   "id": "1022ecbf-8c0a-4745-a4e5-5b0acb44e3b5",
   "metadata": {},
   "outputs": [
    {
     "data": {
      "text/plain": [
       "True"
      ]
     },
     "execution_count": 23,
     "metadata": {},
     "output_type": "execute_result"
    }
   ],
   "source": [
    "{1,2,3} == {3,2,1,1,1}"
   ]
  },
  {
   "cell_type": "markdown",
   "id": "60449206-84c4-4307-8493-51c3e4c433fd",
   "metadata": {},
   "source": [
    "## Tuples"
   ]
  },
  {
   "cell_type": "markdown",
   "id": "8e1a2cdf-fe3f-4f78-9b51-828d7581a0f5",
   "metadata": {},
   "source": [
    "#### They're memory efficient \n",
    "#### Good for storing lots of little things, like x,y coordinates"
   ]
  },
  {
   "cell_type": "code",
   "execution_count": 35,
   "id": "c5a6e3c0-a079-4f16-ae8e-3110bfc59227",
   "metadata": {},
   "outputs": [],
   "source": [
    "my_tuple = (1,2,3)"
   ]
  },
  {
   "cell_type": "code",
   "execution_count": 27,
   "id": "ebe64160-e9d9-4a35-a90f-ad73c8957185",
   "metadata": {},
   "outputs": [
    {
     "data": {
      "text/plain": [
       "3"
      ]
     },
     "execution_count": 27,
     "metadata": {},
     "output_type": "execute_result"
    }
   ],
   "source": [
    "len(my_tuple)"
   ]
  },
  {
   "cell_type": "code",
   "execution_count": 28,
   "id": "2d1370d0-2778-46b2-ad86-ecfeb9d81179",
   "metadata": {},
   "outputs": [
    {
     "data": {
      "text/plain": [
       "False"
      ]
     },
     "execution_count": 28,
     "metadata": {},
     "output_type": "execute_result"
    }
   ],
   "source": [
    "(1,2) == (2,1)"
   ]
  },
  {
   "cell_type": "code",
   "execution_count": 33,
   "id": "55a23156-b377-4b15-a8c0-c41026a029e6",
   "metadata": {},
   "outputs": [
    {
     "name": "stdout",
     "output_type": "stream",
     "text": [
      "[1, 'list', True, [1, 2, 3], [[1, 2, 3], [False, True], 'cool'], 4]\n"
     ]
    }
   ],
   "source": [
    "my_list.append(4)\n",
    "print(my_list)"
   ]
  },
  {
   "cell_type": "markdown",
   "id": "48d2f979-9565-4b58-9072-5d31ca9e2bd4",
   "metadata": {},
   "source": [
    "#### Once a tuple is declared, you can't add to it or change any of the values in it."
   ]
  },
  {
   "cell_type": "code",
   "execution_count": 38,
   "id": "67ad2a06-aa43-45eb-a962-23c3882b7fad",
   "metadata": {},
   "outputs": [
    {
     "name": "stdout",
     "output_type": "stream",
     "text": [
      "(1, 2, 3)\n"
     ]
    },
    {
     "ename": "AttributeError",
     "evalue": "'tuple' object has no attribute 'append'",
     "output_type": "error",
     "traceback": [
      "\u001b[1;31m---------------------------------------------------------------------------\u001b[0m",
      "\u001b[1;31mAttributeError\u001b[0m                            Traceback (most recent call last)",
      "Cell \u001b[1;32mIn[38], line 2\u001b[0m\n\u001b[0;32m      1\u001b[0m \u001b[38;5;28mprint\u001b[39m(my_tuple)\n\u001b[1;32m----> 2\u001b[0m \u001b[43mmy_tuple\u001b[49m\u001b[38;5;241;43m.\u001b[39;49m\u001b[43mappend\u001b[49m(\u001b[38;5;241m4\u001b[39m)\n\u001b[0;32m      3\u001b[0m \u001b[38;5;28mprint\u001b[39m(my_tuple)\n",
      "\u001b[1;31mAttributeError\u001b[0m: 'tuple' object has no attribute 'append'"
     ]
    }
   ],
   "source": [
    "print(my_tuple)\n",
    "my_tuple.append(4)\n",
    "print(my_tuple)"
   ]
  },
  {
   "cell_type": "markdown",
   "id": "dc5e281c-c598-4d3b-90a2-a00e409016dd",
   "metadata": {},
   "source": [
    "## Dictionaries"
   ]
  },
  {
   "cell_type": "code",
   "execution_count": 42,
   "id": "da1fee3f-30c1-4e6c-ab3d-083378d34261",
   "metadata": {},
   "outputs": [],
   "source": [
    "dict = {\n",
    "    'apple': 'a red fruit',\n",
    "    'bear': 'a scary animal'\n",
    "}"
   ]
  },
  {
   "cell_type": "code",
   "execution_count": 43,
   "id": "98f4c527-fc2d-4b96-a6a2-30ef2debcfc1",
   "metadata": {},
   "outputs": [
    {
     "data": {
      "text/plain": [
       "'a red fruit'"
      ]
     },
     "execution_count": 43,
     "metadata": {},
     "output_type": "execute_result"
    }
   ],
   "source": [
    "dict['apple']"
   ]
  },
  {
   "cell_type": "code",
   "execution_count": 44,
   "id": "9cb9c289-ce19-4b64-9b5a-1e2ed287211e",
   "metadata": {},
   "outputs": [],
   "source": [
    "dict = {\n",
    "    'apple': 'a red fruit',\n",
    "    'bear': 'a scary animal',\n",
    "    'apple': 'sometime a green fruit'\n",
    "}"
   ]
  },
  {
   "cell_type": "code",
   "execution_count": 45,
   "id": "8d3045d8-d947-490a-9c3b-ed6c78970dce",
   "metadata": {},
   "outputs": [
    {
     "data": {
      "text/plain": [
       "'sometime a green fruit'"
      ]
     },
     "execution_count": 45,
     "metadata": {},
     "output_type": "execute_result"
    }
   ],
   "source": [
    "dict['apple']"
   ]
  },
  {
   "cell_type": "markdown",
   "id": "8410b0c2-bdf9-41bf-94e0-e28a8aaf80d5",
   "metadata": {},
   "source": [
    "# Sets and Dictionaries\n",
    "#### Both are defined with curly brackets\n",
    "#### Sets have unique values, dictionaries have unique keys\n",
    "#### The order doesn't matter\n"
   ]
  },
  {
   "cell_type": "markdown",
   "id": "7939c57b-7473-4499-a117-f45459843c67",
   "metadata": {},
   "source": []
  }
 ],
 "metadata": {
  "kernelspec": {
   "display_name": "Python 3 (ipykernel)",
   "language": "python",
   "name": "python3"
  },
  "language_info": {
   "codemirror_mode": {
    "name": "ipython",
    "version": 3
   },
   "file_extension": ".py",
   "mimetype": "text/x-python",
   "name": "python",
   "nbconvert_exporter": "python",
   "pygments_lexer": "ipython3",
   "version": "3.11.8"
  }
 },
 "nbformat": 4,
 "nbformat_minor": 5
}

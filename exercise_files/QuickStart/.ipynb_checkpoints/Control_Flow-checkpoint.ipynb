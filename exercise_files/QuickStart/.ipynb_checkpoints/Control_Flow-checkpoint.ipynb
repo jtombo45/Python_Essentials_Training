{
 "cells": [
  {
   "cell_type": "markdown",
   "id": "2cf04bb6-8b95-49e0-97a0-21ba0b836c66",
   "metadata": {},
   "source": [
    "# Control Flow"
   ]
  },
  {
   "cell_type": "markdown",
   "id": "3f2c0dd2-600b-4758-8c2a-40a6d56551fd",
   "metadata": {},
   "source": [
    "#### If/Else Statement"
   ]
  },
  {
   "cell_type": "code",
   "execution_count": 3,
   "id": "78430af3-f2ae-4fef-89c4-03200d8c7ff3",
   "metadata": {},
   "outputs": [
    {
     "name": "stdout",
     "output_type": "stream",
     "text": [
      "It is false!\n",
      "Always print this\n"
     ]
    }
   ],
   "source": [
    "#If statement\n",
    "a = False\n",
    "if a:\n",
    "    print('It is true!')\n",
    "else:\n",
    "    print('It is false!')\n",
    "print('Always print this')"
   ]
  },
  {
   "cell_type": "code",
   "execution_count": 4,
   "id": "9f01f1d5-bdd9-4523-8da7-935c8d4ec3ea",
   "metadata": {},
   "outputs": [
    {
     "name": "stdout",
     "output_type": "stream",
     "text": [
      "It is true!\n",
      "Always print this\n",
      "Both are true\n",
      "All three are true%\n",
      "Always print this\n"
     ]
    }
   ],
   "source": [
    "a = True\n",
    "b = True\n",
    "c = True\n",
    "if a:\n",
    "    print('It is true!')\n",
    "    print('Always print this')\n",
    "    if b: \n",
    "        print('Both are true')\n",
    "        if c:\n",
    "            print('All three are true')\n",
    "else:\n",
    "    print('It is false!')\n",
    "print('Always print this')"
   ]
  },
  {
   "cell_type": "markdown",
   "id": "980f0b0b-15f9-4ee3-8a04-b4cabcb192b6",
   "metadata": {},
   "source": [
    "#### For Loops"
   ]
  },
  {
   "cell_type": "markdown",
   "id": "b7486ec4-2a4c-4d74-ba88-b58263b719e1",
   "metadata": {},
   "source": [
    "#### Used to iterate through a list of iterables"
   ]
  },
  {
   "cell_type": "code",
   "execution_count": 6,
   "id": "cfbce1d8-bcf2-4de1-aa85-96a394fc9d9f",
   "metadata": {},
   "outputs": [
    {
     "name": "stdout",
     "output_type": "stream",
     "text": [
      "1\n",
      "2\n",
      "3\n",
      "4\n",
      "5\n"
     ]
    }
   ],
   "source": [
    "a = [1, 2, 3, 4, 5]\n",
    "for number in a:\n",
    "    print(number)"
   ]
  },
  {
   "cell_type": "code",
   "execution_count": 7,
   "id": "a9d94aa3-4df5-41d2-ab36-b9df745fbe7d",
   "metadata": {},
   "outputs": [
    {
     "data": {
      "text/plain": [
       "True"
      ]
     },
     "execution_count": 7,
     "metadata": {},
     "output_type": "execute_result"
    }
   ],
   "source": [
    "4 in a"
   ]
  },
  {
   "cell_type": "markdown",
   "id": "1ba06864-72b7-4537-aea9-34bdb3b9ef01",
   "metadata": {},
   "source": [
    "#### While Loops"
   ]
  },
  {
   "cell_type": "code",
   "execution_count": 9,
   "id": "73da04d0-125d-45ea-be1d-b3ce797d86f4",
   "metadata": {},
   "outputs": [
    {
     "name": "stdout",
     "output_type": "stream",
     "text": [
      "0\n",
      "1\n",
      "2\n",
      "3\n",
      "4\n"
     ]
    }
   ],
   "source": [
    "a = 0\n",
    "while a < 5:\n",
    "    print(a)\n",
    "    a = a + 1"
   ]
  },
  {
   "cell_type": "code",
   "execution_count": null,
   "id": "0c963651-bb3c-4a3d-8671-2cadce643179",
   "metadata": {},
   "outputs": [],
   "source": []
  },
  {
   "cell_type": "code",
   "execution_count": null,
   "id": "3e3c2259-b12c-4b40-93c4-ae883715c04a",
   "metadata": {},
   "outputs": [],
   "source": []
  }
 ],
 "metadata": {
  "kernelspec": {
   "display_name": "Python 3 (ipykernel)",
   "language": "python",
   "name": "python3"
  },
  "language_info": {
   "codemirror_mode": {
    "name": "ipython",
    "version": 3
   },
   "file_extension": ".py",
   "mimetype": "text/x-python",
   "name": "python",
   "nbconvert_exporter": "python",
   "pygments_lexer": "ipython3",
   "version": "3.11.8"
  }
 },
 "nbformat": 4,
 "nbformat_minor": 5
}

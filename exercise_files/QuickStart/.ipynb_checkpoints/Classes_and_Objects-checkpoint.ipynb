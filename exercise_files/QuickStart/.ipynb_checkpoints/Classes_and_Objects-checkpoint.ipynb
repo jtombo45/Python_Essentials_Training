{
 "cells": [
  {
   "cell_type": "markdown",
   "id": "33f4ae38-1d25-4f10-b26d-2dc482dd913a",
   "metadata": {},
   "source": [
    "# Classes and Objects QuickStart"
   ]
  },
  {
   "cell_type": "markdown",
   "id": "69385682-31ef-4bcb-b82e-a62f4bf011a5",
   "metadata": {},
   "source": [
    "#### self is similair to this in other languages and init method is equivalent to a constructor method"
   ]
  },
  {
   "cell_type": "code",
   "execution_count": 14,
   "id": "da0613db-40de-4ed4-9168-4cf78494df48",
   "metadata": {},
   "outputs": [],
   "source": [
    "class Dog:\n",
    "    def __init__(self, name):\n",
    "        self.name = name\n",
    "        self.legs = 4\n",
    "    def speak(self):\n",
    "        print(self.name + ' says: Bark')"
   ]
  },
  {
   "cell_type": "code",
   "execution_count": 15,
   "id": "7ef54d47-385d-485b-825a-8c40316fcc85",
   "metadata": {},
   "outputs": [],
   "source": [
    "rover = Dog('Rover')\n",
    "betsy = Dog('Betsy')\n",
    "fluffy = Dog('Fluffy')"
   ]
  },
  {
   "cell_type": "code",
   "execution_count": 16,
   "id": "0df9ce0c-411a-4b7c-aefe-0ec01bbd277c",
   "metadata": {},
   "outputs": [
    {
     "name": "stdout",
     "output_type": "stream",
     "text": [
      "Rover says: Bark\n",
      "Betsy\n",
      "Fluffy says: Bark\n"
     ]
    }
   ],
   "source": [
    "rover.speak()\n",
    "print(betsy.name)\n",
    "fluffy.speak()"
   ]
  },
  {
   "cell_type": "code",
   "execution_count": null,
   "id": "eefc31e3-2f04-45cf-960e-7129056ca230",
   "metadata": {},
   "outputs": [],
   "source": []
  }
 ],
 "metadata": {
  "kernelspec": {
   "display_name": "Python 3 (ipykernel)",
   "language": "python",
   "name": "python3"
  },
  "language_info": {
   "codemirror_mode": {
    "name": "ipython",
    "version": 3
   },
   "file_extension": ".py",
   "mimetype": "text/x-python",
   "name": "python",
   "nbconvert_exporter": "python",
   "pygments_lexer": "ipython3",
   "version": "3.11.8"
  }
 },
 "nbformat": 4,
 "nbformat_minor": 5
}

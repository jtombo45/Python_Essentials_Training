{
 "cells": [
  {
   "cell_type": "markdown",
   "id": "735f4e09-4bcf-496c-adbe-3bc495cb9cfc",
   "metadata": {},
   "source": [
    "# Threads and Processes\n",
    "Computer have both memory and file storage\n",
    "- short term -> declare variable in a program\n",
    "- long term memory -> save file and load to file from a disc\n",
    "\n",
    "#### Threads and Processes\n",
    "- the operating system segments memory -> 2 applications don't share memory\n",
    "- we can share memory if we move 2 application into the same process\n",
    "- we run the program in parallel, instead of separate processes they're in separate threads"
   ]
  },
  {
   "cell_type": "markdown",
   "id": "b49d0011-0535-4ab7-93e0-c157f6b2e2f5",
   "metadata": {},
   "source": [
    "#### Multithreading"
   ]
  },
  {
   "cell_type": "code",
   "execution_count": 4,
   "id": "ee3d095e-7ec6-4f14-9f9f-33810bebc4d3",
   "metadata": {},
   "outputs": [],
   "source": [
    "import threading\n",
    "import time"
   ]
  },
  {
   "cell_type": "markdown",
   "id": "fc3b9f16-0ef9-41c7-ae90-aa1afb1bb27b",
   "metadata": {},
   "source": [
    "# Threads"
   ]
  },
  {
   "cell_type": "code",
   "execution_count": null,
   "id": "149f85e0-8e4e-4d22-930f-835a7b4f2b2e",
   "metadata": {},
   "outputs": [],
   "source": [
    "Threads share memory"
   ]
  },
  {
   "cell_type": "code",
   "execution_count": 5,
   "id": "e747b0be-cd9c-48f9-b8fa-d67a43393faa",
   "metadata": {},
   "outputs": [
    {
     "data": {
      "text/plain": [
       "[0, 1, 4, 9, 16]"
      ]
     },
     "execution_count": 5,
     "metadata": {},
     "output_type": "execute_result"
    }
   ],
   "source": [
    "def longSquare(num):\n",
    "    time.sleep(1)\n",
    "    results[num] = num**2\n",
    "\n",
    "[longSquare(n) for n in range(0,5)]"
   ]
  },
  {
   "cell_type": "code",
   "execution_count": 14,
   "id": "acbd6d45-e96a-477c-8bd2-d1f6143495fa",
   "metadata": {},
   "outputs": [
    {
     "name": "stdout",
     "output_type": "stream",
     "text": [
      "{1: 1, 2: 4}\n"
     ]
    }
   ],
   "source": [
    "def longSquare(num,results):\n",
    "    time.sleep(1)\n",
    "    results[num] = num**2 \n",
    "\n",
    "results = {}\n",
    "# First batch of threads, passing result by reference, so it modifies its value directly since it points to its memory\n",
    "t1 = threading.Thread(target=longSquare, args=(1,results))\n",
    "t2 = threading.Thread(target=longSquare, args=(2,results))\n",
    "\n",
    "# Starting the threads\n",
    "t1.start()\n",
    "t2.start()\n",
    "\n",
    "# Joining/combining the threads into one process, so it can share memory\n",
    "t1.join()\n",
    "t2.join()\n",
    "\n",
    "print(results)"
   ]
  },
  {
   "cell_type": "code",
   "execution_count": 15,
   "id": "ecd9b843-5745-4a36-aa9c-6b016841bfef",
   "metadata": {},
   "outputs": [
    {
     "name": "stdout",
     "output_type": "stream",
     "text": [
      "{1: 1, 0: 0, 2: 4, 3: 9, 4: 16, 5: 25, 6: 36, 7: 49, 8: 64, 9: 81}\n"
     ]
    }
   ],
   "source": [
    "def longSquare(num,results):\n",
    "    time.sleep(1)\n",
    "    results[num] = num**2 \n",
    "\n",
    "results = {}\n",
    "threads = [threading.Thread(target=longSquare, args=(n,results)) for n in range(0,10)]\n",
    "[t.start() for t in threads]\n",
    "[t.join() for t in threads]\n",
    "\n",
    "print(results)"
   ]
  },
  {
   "cell_type": "markdown",
   "id": "de8b60dc-fedc-4f34-988c-f01e5cb6d547",
   "metadata": {},
   "source": [
    "# Multiprocesses"
   ]
  },
  {
   "cell_type": "code",
   "execution_count": 36,
   "id": "9153b97a-0ad5-43e2-b324-d8016e29a35f",
   "metadata": {},
   "outputs": [],
   "source": [
    "from multiprocess import Process\n",
    "import time"
   ]
  },
  {
   "cell_type": "markdown",
   "id": "618a2f4e-ef83-46bf-a5b8-8f1cb4b36a01",
   "metadata": {},
   "source": [
    "#### Processes\n",
    "Separate process don't share memory"
   ]
  },
  {
   "cell_type": "code",
   "execution_count": 37,
   "id": "5287e8e9-e0f4-4d37-b93a-9324fc5e1503",
   "metadata": {},
   "outputs": [
    {
     "name": "stdout",
     "output_type": "stream",
     "text": [
      "{}\n"
     ]
    }
   ],
   "source": [
    "def longSquare(num,results):\n",
    "    time.sleep(1)\n",
    "    print(num**2) \n",
    "    print('Finished computing!')\n",
    "\n",
    "results = {}\n",
    "p1 = Process(target=longSquare, args=(1,results))\n",
    "p2 = Process(target=longSquare, args=(2,results))\n",
    "\n",
    "p1.start()\n",
    "p2.start()\n",
    "\n",
    "p1.join()\n",
    "p2.join()\n",
    "\n",
    "print(results)"
   ]
  },
  {
   "cell_type": "code",
   "execution_count": null,
   "id": "3a199a82-7a5e-4059-9bef-f1c464903046",
   "metadata": {},
   "outputs": [],
   "source": [
    "# program above works when using Visual Studio Code, but I had to modify to this to get to work"
   ]
  },
  {
   "cell_type": "code",
   "execution_count": 38,
   "id": "8b1ef029-3239-412e-b59a-9a337b891288",
   "metadata": {},
   "outputs": [
    {
     "name": "stdout",
     "output_type": "stream",
     "text": [
      "{}\n"
     ]
    }
   ],
   "source": [
    "from multiprocess import Process\n",
    "import time\n",
    "\n",
    "\n",
    "def longSquare(num,results):\n",
    "    time.sleep(1)\n",
    "    print(num**2) \n",
    "    print('Finished computing!')\n",
    "\n",
    "if __name__ == '__main__':\n",
    "    results = {}\n",
    "    p1 = Process(target=longSquare, args=(1,results))\n",
    "    p2 = Process(target=longSquare, args=(2,results))\n",
    "\n",
    "    p1.start()\n",
    "    p2.start()\n",
    "\n",
    "    p1.join()\n",
    "    p2.join()\n",
    "\n",
    "    print(results)"
   ]
  },
  {
   "cell_type": "code",
   "execution_count": 41,
   "id": "640428de-b899-4463-8a5e-866a5cf15f6c",
   "metadata": {},
   "outputs": [],
   "source": [
    "import threading"
   ]
  },
  {
   "cell_type": "code",
   "execution_count": 42,
   "id": "edb73607-a281-4a5a-9ae8-3273573da008",
   "metadata": {},
   "outputs": [
    {
     "name": "stdout",
     "output_type": "stream",
     "text": [
      "{}\n"
     ]
    }
   ],
   "source": [
    "def longSquare(num,results):\n",
    "    time.sleep(1)\n",
    "    results[num] = num**2 \n",
    "\n",
    "results = {}\n",
    "threads = [Process(target=longSquare, args=(n,results)) for n in range(0,10)]\n",
    "[t.start() for t in threads]\n",
    "[t.join() for t in threads]\n",
    "\n",
    "print(results)"
   ]
  },
  {
   "cell_type": "code",
   "execution_count": null,
   "id": "38118874-add2-4f4f-9914-2bf7572db879",
   "metadata": {},
   "outputs": [],
   "source": []
  }
 ],
 "metadata": {
  "kernelspec": {
   "display_name": "Python 3 (ipykernel)",
   "language": "python",
   "name": "python3"
  },
  "language_info": {
   "codemirror_mode": {
    "name": "ipython",
    "version": 3
   },
   "file_extension": ".py",
   "mimetype": "text/x-python",
   "name": "python",
   "nbconvert_exporter": "python",
   "pygments_lexer": "ipython3",
   "version": "3.11.8"
  }
 },
 "nbformat": 4,
 "nbformat_minor": 5
}

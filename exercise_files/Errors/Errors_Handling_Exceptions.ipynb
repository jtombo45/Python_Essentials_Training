{
 "cells": [
  {
   "cell_type": "code",
   "execution_count": null,
   "id": "e036dc41-6c51-4614-b6ff-f6d80f18f97d",
   "metadata": {},
   "outputs": [],
   "source": [
    "# Errors\n",
    "Errors and exception are the same thing"
   ]
  },
  {
   "cell_type": "code",
   "execution_count": 13,
   "id": "ea2ba825-4478-4760-82a2-ff1e2442c3c5",
   "metadata": {},
   "outputs": [],
   "source": [
    "import time"
   ]
  },
  {
   "cell_type": "markdown",
   "id": "09b52896-0309-48f0-9103-d10cd1a2ef78",
   "metadata": {},
   "source": [
    "#### Division Erro"
   ]
  },
  {
   "cell_type": "code",
   "execution_count": 1,
   "id": "6a7952f4-061c-4db7-b541-9a8b33530cce",
   "metadata": {},
   "outputs": [
    {
     "ename": "ZeroDivisionError",
     "evalue": "division by zero",
     "output_type": "error",
     "traceback": [
      "\u001b[1;31m---------------------------------------------------------------------------\u001b[0m",
      "\u001b[1;31mZeroDivisionError\u001b[0m                         Traceback (most recent call last)",
      "Cell \u001b[1;32mIn[1], line 4\u001b[0m\n\u001b[0;32m      1\u001b[0m \u001b[38;5;28;01mdef\u001b[39;00m \u001b[38;5;21mcauseError\u001b[39m():\n\u001b[0;32m      2\u001b[0m     \u001b[38;5;28;01mreturn\u001b[39;00m \u001b[38;5;241m1\u001b[39m\u001b[38;5;241m/\u001b[39m\u001b[38;5;241m0\u001b[39m\n\u001b[1;32m----> 4\u001b[0m \u001b[43mcauseError\u001b[49m\u001b[43m(\u001b[49m\u001b[43m)\u001b[49m\n",
      "Cell \u001b[1;32mIn[1], line 2\u001b[0m, in \u001b[0;36mcauseError\u001b[1;34m()\u001b[0m\n\u001b[0;32m      1\u001b[0m \u001b[38;5;28;01mdef\u001b[39;00m \u001b[38;5;21mcauseError\u001b[39m():\n\u001b[1;32m----> 2\u001b[0m     \u001b[38;5;28;01mreturn\u001b[39;00m \u001b[38;5;241;43m1\u001b[39;49m\u001b[38;5;241;43m/\u001b[39;49m\u001b[38;5;241;43m0\u001b[39;49m\n",
      "\u001b[1;31mZeroDivisionError\u001b[0m: division by zero"
     ]
    }
   ],
   "source": [
    "def causeError():\n",
    "    return 1/0\n",
    "\n",
    "causeError()"
   ]
  },
  {
   "cell_type": "markdown",
   "id": "8917affd-2f01-46cb-9e5a-8e0beb1bd6e3",
   "metadata": {},
   "source": [
    "The error message returns a stack trace"
   ]
  },
  {
   "cell_type": "code",
   "execution_count": 3,
   "id": "f683716d-1080-4d86-849c-60a649500f67",
   "metadata": {},
   "outputs": [],
   "source": [
    "def callCauseError():\n",
    "    return causeError()"
   ]
  },
  {
   "cell_type": "code",
   "execution_count": 4,
   "id": "017795de-ff44-40a6-9c4b-98a50dc16cef",
   "metadata": {},
   "outputs": [
    {
     "ename": "ZeroDivisionError",
     "evalue": "division by zero",
     "output_type": "error",
     "traceback": [
      "\u001b[1;31m---------------------------------------------------------------------------\u001b[0m",
      "\u001b[1;31mZeroDivisionError\u001b[0m                         Traceback (most recent call last)",
      "Cell \u001b[1;32mIn[4], line 1\u001b[0m\n\u001b[1;32m----> 1\u001b[0m \u001b[43mcallCauseError\u001b[49m\u001b[43m(\u001b[49m\u001b[43m)\u001b[49m\n",
      "Cell \u001b[1;32mIn[3], line 2\u001b[0m, in \u001b[0;36mcallCauseError\u001b[1;34m()\u001b[0m\n\u001b[0;32m      1\u001b[0m \u001b[38;5;28;01mdef\u001b[39;00m \u001b[38;5;21mcallCauseError\u001b[39m():\n\u001b[1;32m----> 2\u001b[0m     \u001b[38;5;28;01mreturn\u001b[39;00m \u001b[43mcauseError\u001b[49m\u001b[43m(\u001b[49m\u001b[43m)\u001b[49m\n",
      "Cell \u001b[1;32mIn[1], line 2\u001b[0m, in \u001b[0;36mcauseError\u001b[1;34m()\u001b[0m\n\u001b[0;32m      1\u001b[0m \u001b[38;5;28;01mdef\u001b[39;00m \u001b[38;5;21mcauseError\u001b[39m():\n\u001b[1;32m----> 2\u001b[0m     \u001b[38;5;28;01mreturn\u001b[39;00m \u001b[38;5;241;43m1\u001b[39;49m\u001b[38;5;241;43m/\u001b[39;49m\u001b[38;5;241;43m0\u001b[39;49m\n",
      "\u001b[1;31mZeroDivisionError\u001b[0m: division by zero"
     ]
    }
   ],
   "source": [
    "callCauseError()"
   ]
  },
  {
   "cell_type": "markdown",
   "id": "32f081bc-6d01-4cb9-a4ed-2b40947b6ef4",
   "metadata": {},
   "source": [
    "Errors are just classes, look below to see:"
   ]
  },
  {
   "cell_type": "markdown",
   "id": "902349c3-a45c-4fb8-919f-0989767f4bb7",
   "metadata": {},
   "source": [
    "#### Try / Except"
   ]
  },
  {
   "cell_type": "code",
   "execution_count": 5,
   "id": "613fdb22-a874-4706-b98d-3b6329e76757",
   "metadata": {},
   "outputs": [
    {
     "name": "stdout",
     "output_type": "stream",
     "text": [
      "<class 'ZeroDivisionError'>\n"
     ]
    }
   ],
   "source": [
    "try:\n",
    "    1/0\n",
    "except Exception as e:\n",
    "    print(type(e))"
   ]
  },
  {
   "cell_type": "markdown",
   "id": "ba2fe86b-7541-4666-851a-1e40fed540f5",
   "metadata": {},
   "source": [
    "#### Finally\n",
    "Will always execute regardless what happens in the try block\n",
    "Often used to time how long a function takes to execute"
   ]
  },
  {
   "cell_type": "code",
   "execution_count": 6,
   "id": "29199453-c092-4d5a-9c49-b4502fc0a702",
   "metadata": {},
   "outputs": [
    {
     "name": "stdout",
     "output_type": "stream",
     "text": [
      "<class 'ZeroDivisionError'>\n",
      "This will always execute!\n"
     ]
    }
   ],
   "source": [
    "try:\n",
    "    1/0\n",
    "except Exception as e:\n",
    "    print(type(e))\n",
    "finally:\n",
    "    print('This will always execute!')"
   ]
  },
  {
   "cell_type": "code",
   "execution_count": 14,
   "id": "f379e931-f95a-4415-a803-e59de6ef03a8",
   "metadata": {},
   "outputs": [
    {
     "name": "stdout",
     "output_type": "stream",
     "text": [
      "<class 'ZeroDivisionError'>\n",
      "Function took 0.0009999275207519531 seconds to execute\n"
     ]
    }
   ],
   "source": [
    "def causeError():\n",
    "    start = time.time()\n",
    "    try:\n",
    "        1/0\n",
    "    except Exception as e:\n",
    "        print(type(e))\n",
    "    finally:\n",
    "        print(f'Function took {time.time() - start} seconds to execute')\n",
    "\n",
    "causeError()"
   ]
  },
  {
   "cell_type": "markdown",
   "id": "79a5f7e1-ed87-4e50-a107-665a8713a5a3",
   "metadata": {},
   "source": [
    "#### Catching Exceptions by Type"
   ]
  },
  {
   "cell_type": "code",
   "execution_count": null,
   "id": "513ec0c6-9f0e-407f-800a-42199725f6ba",
   "metadata": {},
   "outputs": [],
   "source": [
    "order of the statements matter"
   ]
  },
  {
   "cell_type": "code",
   "execution_count": 18,
   "id": "c701132a-d781-4b6d-b089-d2c088a6e9af",
   "metadata": {},
   "outputs": [
    {
     "name": "stdout",
     "output_type": "stream",
     "text": [
      "There was a type error!\n"
     ]
    }
   ],
   "source": [
    "def causeError():\n",
    "    start = time.time()\n",
    "    try:\n",
    "        return 1 + 'a'\n",
    "    except TypeError:\n",
    "        print('There was a type error!')\n",
    "    except ZeroDivisionError:\n",
    "        print('There was a zero division error!')\n",
    "    except Exception:\n",
    "        print('There was some sort of error!')\n",
    "    \n",
    "causeError()"
   ]
  },
  {
   "cell_type": "code",
   "execution_count": null,
   "id": "4b4162db-8551-4e0e-8d2f-4a70b1bbd927",
   "metadata": {},
   "outputs": [],
   "source": []
  },
  {
   "cell_type": "markdown",
   "id": "85fd6829-df64-403c-bec9-e35e00f71f5b",
   "metadata": {},
   "source": [
    "#### Custom Decorators"
   ]
  },
  {
   "cell_type": "code",
   "execution_count": 24,
   "id": "9fa99e0d-e274-440f-9c9b-9dde08d7f162",
   "metadata": {},
   "outputs": [
    {
     "name": "stdout",
     "output_type": "stream",
     "text": [
      "There was a zero division error!\n"
     ]
    }
   ],
   "source": [
    "def handleException(func):\n",
    "    def wrapper(*args):\n",
    "        try:\n",
    "            func(*args)\n",
    "        except TypeError:\n",
    "            print('There was a type error!')\n",
    "        except ZeroDivisionError:\n",
    "            print('There was a zero division error!')\n",
    "        except Exception:\n",
    "            print('There was some sort of error!')\n",
    "    return wrapper\n",
    "\n",
    "@handleException\n",
    "def causeError():\n",
    "    return 1/0\n",
    "\n",
    "causeError()"
   ]
  },
  {
   "cell_type": "code",
   "execution_count": null,
   "id": "9b423c19-90df-42af-b727-904f61014399",
   "metadata": {},
   "outputs": [],
   "source": []
  },
  {
   "cell_type": "markdown",
   "id": "7188f309-0ad7-4a20-90c3-09c3bb4452e8",
   "metadata": {},
   "source": [
    "#### Raising Exceptions"
   ]
  },
  {
   "cell_type": "code",
   "execution_count": 27,
   "id": "bb15db98-5a30-4076-a6d7-6e02830d4230",
   "metadata": {},
   "outputs": [
    {
     "name": "stdout",
     "output_type": "stream",
     "text": [
      "There was some sort of error!\n",
      "1\n"
     ]
    }
   ],
   "source": [
    "@handleException\n",
    "def raiseError(n):\n",
    "    if n == 0:\n",
    "        raise Exception()\n",
    "    print(n)\n",
    "raiseError(0)\n",
    "raiseError(1)"
   ]
  },
  {
   "cell_type": "code",
   "execution_count": null,
   "id": "7c430ea8-7834-4648-bf5a-2e130df39e2e",
   "metadata": {},
   "outputs": [],
   "source": [
    "#### Custome"
   ]
  },
  {
   "cell_type": "code",
   "execution_count": null,
   "id": "7fd73b53-2f5c-4eaf-a62d-910b34ce0a21",
   "metadata": {},
   "outputs": [],
   "source": []
  }
 ],
 "metadata": {
  "kernelspec": {
   "display_name": "Python 3 (ipykernel)",
   "language": "python",
   "name": "python3"
  },
  "language_info": {
   "codemirror_mode": {
    "name": "ipython",
    "version": 3
   },
   "file_extension": ".py",
   "mimetype": "text/x-python",
   "name": "python",
   "nbconvert_exporter": "python",
   "pygments_lexer": "ipython3",
   "version": "3.11.8"
  }
 },
 "nbformat": 4,
 "nbformat_minor": 5
}

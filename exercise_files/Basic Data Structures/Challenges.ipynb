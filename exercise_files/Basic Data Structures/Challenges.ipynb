{
 "cells": [
  {
   "cell_type": "markdown",
   "id": "51661a9c-461f-4b20-bae5-a4efd432faeb",
   "metadata": {},
   "source": [
    "#### Question 1"
   ]
  },
  {
   "cell_type": "markdown",
   "id": "07fd378d-0939-4c2f-a9a5-3e00a8e47174",
   "metadata": {},
   "source": [
    "What is not a method of handling missing keys in a dictionary?\n",
    "- using a defaultdict (DefaultDicts will automatically populate a missing key when it is accessed.)\n",
    "- checking with an \"if key in dictionary\" statement, then adding a value (Although better solutions usually exist, manually checking and populating dictionaries with an if statement is valid!)\n",
    "- using the get function (Using the Dict.get function can provide a default value if the key is missing.)\n",
    "- using the defaultval function "
   ]
  },
  {
   "cell_type": "markdown",
   "id": "c3cf8156-12fd-4267-b608-ddaa5943f8f0",
   "metadata": {},
   "source": [
    "using the defaultval function"
   ]
  },
  {
   "cell_type": "markdown",
   "id": "1f44a1db-890b-41e7-8edd-9b323752adc9",
   "metadata": {},
   "source": [
    "#### Question 2"
   ]
  },
  {
   "cell_type": "markdown",
   "id": "dbeccdc7-bb9c-43f3-9566-d6f37f216117",
   "metadata": {},
   "source": [
    "Which statement is false?\n",
    "- The order of elements in a set is important.\n",
    "- You cannot remove items from a tuple.\n",
    "- Tuples are very memory-efficient.\n",
    "- Sets must contain unique values."
   ]
  },
  {
   "cell_type": "markdown",
   "id": "9fea0ebb-107a-440a-8b4b-357e9c763105",
   "metadata": {},
   "source": [
    "The order of elements in a set is important."
   ]
  },
  {
   "cell_type": "markdown",
   "id": "1ba6c83f-d20c-4d4d-ab57-617d65f47ca1",
   "metadata": {},
   "source": [
    "#### Question 3\n",
    "You are given these data structure values:"
   ]
  },
  {
   "cell_type": "code",
   "execution_count": 3,
   "id": "3e6db214-af41-4c39-9f44-bb04b12bd5a5",
   "metadata": {},
   "outputs": [],
   "source": [
    "values = [[1, 'i', 'a'], ['2', 'we', 'be', 'it'], [3, 'are', 'few', 'too']]"
   ]
  },
  {
   "cell_type": "markdown",
   "id": "96da6b1d-f33c-4b8f-9c0b-cb7a0d288e8a",
   "metadata": {},
   "source": [
    "Then, you are asked to produce this structure:"
   ]
  },
  {
   "cell_type": "code",
   "execution_count": 4,
   "id": "a1f04656-735d-48ac-bc0a-7ab9f5918926",
   "metadata": {},
   "outputs": [
    {
     "data": {
      "text/plain": [
       "{1: ['i', 'a'], 2: ['we', 'be', 'it'], 3: ['are', 'few', 'too']}"
      ]
     },
     "execution_count": 4,
     "metadata": {},
     "output_type": "execute_result"
    }
   ],
   "source": [
    "{\n",
    "        1: ['i', 'a'],\n",
    "        2: ['we', 'be', 'it'],\n",
    "        3: ['are', 'few', 'too']\n",
    "}"
   ]
  },
  {
   "cell_type": "code",
   "execution_count": 5,
   "id": "29ad7ebc-e656-4ce6-be97-a0523ea3cac8",
   "metadata": {},
   "outputs": [
    {
     "data": {
      "text/plain": [
       "{1: ['i', 'a'], '2': ['we', 'be'], 3: ['are', 'few']}"
      ]
     },
     "execution_count": 5,
     "metadata": {},
     "output_type": "execute_result"
    }
   ],
   "source": [
    "{item[0]: item[1:3] for item in values}"
   ]
  },
  {
   "cell_type": "code",
   "execution_count": 6,
   "id": "7eab6432-75c9-4efe-a179-3f3e2ac079ee",
   "metadata": {},
   "outputs": [
    {
     "data": {
      "text/plain": [
       "{1: ['i', 'a'], '2': ['we', 'be', 'it'], 3: ['are', 'few', 'too']}"
      ]
     },
     "execution_count": 6,
     "metadata": {},
     "output_type": "execute_result"
    }
   ],
   "source": [
    "{item[0]: item[1:] for item in values} # correct answer"
   ]
  },
  {
   "cell_type": "markdown",
   "id": "8bc03325-2765-4086-ba64-58e56c9ffb4c",
   "metadata": {},
   "source": [
    "#### Quesiton 4\n",
    "How would you write a nested list comprehension to apply a function someFunc to all comments in a list of blog objects?"
   ]
  },
  {
   "cell_type": "code",
   "execution_count": null,
   "id": "b35aa4a2-5c52-4e87-bbef-81a4b8a13c11",
   "metadata": {},
   "outputs": [],
   "source": [
    "[[someFunc(comment) for comment in blog.comments] for blog in blogs]"
   ]
  },
  {
   "cell_type": "markdown",
   "id": "eddf6b38-a841-4120-a45a-4126edf9cff2",
   "metadata": {},
   "source": [
    "#### Question 5\n",
    "Which option lists the numbers 100 to 0, backwards, by increments of 5? ([100, 95, 90,..., 0])"
   ]
  },
  {
   "cell_type": "code",
   "execution_count": 7,
   "id": "6aab3a3e-f3cc-479e-9f61-f3b04780eb1f",
   "metadata": {},
   "outputs": [
    {
     "data": {
      "text/plain": [
       "[100,\n",
       " 95,\n",
       " 90,\n",
       " 85,\n",
       " 80,\n",
       " 75,\n",
       " 70,\n",
       " 65,\n",
       " 60,\n",
       " 55,\n",
       " 50,\n",
       " 45,\n",
       " 40,\n",
       " 35,\n",
       " 30,\n",
       " 25,\n",
       " 20,\n",
       " 15,\n",
       " 10,\n",
       " 5,\n",
       " 0]"
      ]
     },
     "execution_count": 7,
     "metadata": {},
     "output_type": "execute_result"
    }
   ],
   "source": [
    "list(range(101))[::-5]"
   ]
  },
  {
   "cell_type": "code",
   "execution_count": null,
   "id": "4c338425-7a2d-4d30-a016-254c7a92529f",
   "metadata": {},
   "outputs": [],
   "source": []
  }
 ],
 "metadata": {
  "kernelspec": {
   "display_name": "Python 3 (ipykernel)",
   "language": "python",
   "name": "python3"
  },
  "language_info": {
   "codemirror_mode": {
    "name": "ipython",
    "version": 3
   },
   "file_extension": ".py",
   "mimetype": "text/x-python",
   "name": "python",
   "nbconvert_exporter": "python",
   "pygments_lexer": "ipython3",
   "version": "3.11.8"
  }
 },
 "nbformat": 4,
 "nbformat_minor": 5
}

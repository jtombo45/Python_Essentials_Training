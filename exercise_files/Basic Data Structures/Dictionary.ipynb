{
 "cells": [
  {
   "cell_type": "markdown",
   "id": "8696bb58-af67-4e98-ba37-5370835fa81d",
   "metadata": {},
   "source": [
    "# Dictionary"
   ]
  },
  {
   "cell_type": "markdown",
   "id": "7fcbced0-a747-4427-aa9e-e8708454dc6d",
   "metadata": {},
   "source": [
    "90% of the problems will be solved using either a list or a dictionary in Python\n",
    "Dictionary are immutable so have to add to them when modifying"
   ]
  },
  {
   "cell_type": "code",
   "execution_count": 25,
   "id": "efd5d732-471f-4c18-85da-37210ebca33e",
   "metadata": {},
   "outputs": [],
   "source": [
    "from collections import defaultdict"
   ]
  },
  {
   "cell_type": "code",
   "execution_count": 3,
   "id": "c115cad1-00e8-4b22-a840-e67e4982b26f",
   "metadata": {},
   "outputs": [
    {
     "data": {
      "text/plain": [
       "{'a': 'aardvark', 'b': 'bear', 'c': 'cat'}"
      ]
     },
     "execution_count": 3,
     "metadata": {},
     "output_type": "execute_result"
    }
   ],
   "source": [
    "animals = {\n",
    "    'a': 'aardvark',\n",
    "    'b': 'bear',\n",
    "    'c': 'cat',\n",
    "}\n",
    "animals"
   ]
  },
  {
   "cell_type": "code",
   "execution_count": 4,
   "id": "aee1f180-782c-4baa-b7ca-75eb28719c5c",
   "metadata": {},
   "outputs": [
    {
     "data": {
      "text/plain": [
       "'aardvark'"
      ]
     },
     "execution_count": 4,
     "metadata": {},
     "output_type": "execute_result"
    }
   ],
   "source": [
    "animals['a']"
   ]
  },
  {
   "cell_type": "code",
   "execution_count": 7,
   "id": "f8e3b984-9958-4bbe-b0b1-47bdcf3cb8ca",
   "metadata": {},
   "outputs": [
    {
     "data": {
      "text/plain": [
       "{'a': 'aardvark', 'b': 'bear', 'c': 'cat', 'd': 'dog'}"
      ]
     },
     "execution_count": 7,
     "metadata": {},
     "output_type": "execute_result"
    }
   ],
   "source": [
    "animals['d'] = 'dog'\n",
    "animals"
   ]
  },
  {
   "cell_type": "code",
   "execution_count": 8,
   "id": "9d68f6d1-3698-4d21-9aae-9aa201c1d45e",
   "metadata": {},
   "outputs": [
    {
     "data": {
      "text/plain": [
       "{'a': 'antelope', 'b': 'bear', 'c': 'cat', 'd': 'dog'}"
      ]
     },
     "execution_count": 8,
     "metadata": {},
     "output_type": "execute_result"
    }
   ],
   "source": [
    "animals['a'] = 'antelope'\n",
    "animals"
   ]
  },
  {
   "cell_type": "code",
   "execution_count": 9,
   "id": "ee7f33aa-6bfb-405f-bcfe-50bce6d9f3ac",
   "metadata": {},
   "outputs": [
    {
     "data": {
      "text/plain": [
       "dict_keys(['a', 'b', 'c', 'd'])"
      ]
     },
     "execution_count": 9,
     "metadata": {},
     "output_type": "execute_result"
    }
   ],
   "source": [
    "animals.keys()"
   ]
  },
  {
   "cell_type": "code",
   "execution_count": 10,
   "id": "c35a4d55-187b-40a7-8edd-0c69e2618ef1",
   "metadata": {},
   "outputs": [
    {
     "data": {
      "text/plain": [
       "dict_values(['antelope', 'bear', 'cat', 'dog'])"
      ]
     },
     "execution_count": 10,
     "metadata": {},
     "output_type": "execute_result"
    }
   ],
   "source": [
    "animals.values()"
   ]
  },
  {
   "cell_type": "markdown",
   "id": "053fac23-3736-49f3-a677-81b8c4754352",
   "metadata": {},
   "source": [
    "convert dict to list"
   ]
  },
  {
   "cell_type": "code",
   "execution_count": 11,
   "id": "b573d011-74dc-40ad-ab1b-7a7ac1c30fa0",
   "metadata": {},
   "outputs": [
    {
     "data": {
      "text/plain": [
       "['a', 'b', 'c', 'd']"
      ]
     },
     "execution_count": 11,
     "metadata": {},
     "output_type": "execute_result"
    }
   ],
   "source": [
    "list(animals.keys())"
   ]
  },
  {
   "cell_type": "code",
   "execution_count": 12,
   "id": "fcaef9cc-de18-4995-a0a2-d87d326045c3",
   "metadata": {},
   "outputs": [
    {
     "ename": "KeyError",
     "evalue": "'e'",
     "output_type": "error",
     "traceback": [
      "\u001b[1;31m---------------------------------------------------------------------------\u001b[0m",
      "\u001b[1;31mKeyError\u001b[0m                                  Traceback (most recent call last)",
      "Cell \u001b[1;32mIn[12], line 1\u001b[0m\n\u001b[1;32m----> 1\u001b[0m \u001b[43manimals\u001b[49m\u001b[43m[\u001b[49m\u001b[38;5;124;43m'\u001b[39;49m\u001b[38;5;124;43me\u001b[39;49m\u001b[38;5;124;43m'\u001b[39;49m\u001b[43m]\u001b[49m\n",
      "\u001b[1;31mKeyError\u001b[0m: 'e'"
     ]
    }
   ],
   "source": [
    "animals['e']"
   ]
  },
  {
   "cell_type": "code",
   "execution_count": 13,
   "id": "42be98e3-1164-4aaf-ad3c-e5c356e1c41e",
   "metadata": {},
   "outputs": [
    {
     "data": {
      "text/plain": [
       "'elephant'"
      ]
     },
     "execution_count": 13,
     "metadata": {},
     "output_type": "execute_result"
    }
   ],
   "source": [
    "animals.get('e','elephant') # second parameter is the default value to be returned if the first arg doesnt exist in dict"
   ]
  },
  {
   "cell_type": "code",
   "execution_count": 15,
   "id": "4e043afb-324f-41ce-b02f-3fa1175ade48",
   "metadata": {},
   "outputs": [],
   "source": [
    "animals.get('e')"
   ]
  },
  {
   "cell_type": "code",
   "execution_count": 14,
   "id": "b2e7a9ec-0794-458d-a1bf-faee5578c313",
   "metadata": {},
   "outputs": [
    {
     "data": {
      "text/plain": [
       "{'a': 'antelope', 'b': 'bear', 'c': 'cat', 'd': 'dog'}"
      ]
     },
     "execution_count": 14,
     "metadata": {},
     "output_type": "execute_result"
    }
   ],
   "source": [
    "animals"
   ]
  },
  {
   "cell_type": "code",
   "execution_count": 16,
   "id": "f17812aa-7f82-4ce3-bccd-7060c1da962e",
   "metadata": {},
   "outputs": [
    {
     "data": {
      "text/plain": [
       "4"
      ]
     },
     "execution_count": 16,
     "metadata": {},
     "output_type": "execute_result"
    }
   ],
   "source": [
    "len(animals)"
   ]
  },
  {
   "cell_type": "code",
   "execution_count": 18,
   "id": "455159b5-ee7d-4e48-be24-0c97a3d6713e",
   "metadata": {},
   "outputs": [
    {
     "data": {
      "text/plain": [
       "{'a': ['aardvark', 'antelope'], 'b': ['bear']}"
      ]
     },
     "execution_count": 18,
     "metadata": {},
     "output_type": "execute_result"
    }
   ],
   "source": [
    "animals = {\n",
    "    'a': ['aardvark', 'antelope'],\n",
    "    'b': ['bear'],\n",
    "}\n",
    "animals"
   ]
  },
  {
   "cell_type": "code",
   "execution_count": 19,
   "id": "3d78ae3c-530e-4e6d-8857-b3c6f90759e4",
   "metadata": {},
   "outputs": [
    {
     "data": {
      "text/plain": [
       "{'a': ['aardvark', 'antelope'], 'b': ['bear', 'bison']}"
      ]
     },
     "execution_count": 19,
     "metadata": {},
     "output_type": "execute_result"
    }
   ],
   "source": [
    "animals['b'].append('bison')\n",
    "animals"
   ]
  },
  {
   "cell_type": "code",
   "execution_count": 20,
   "id": "2d2c55d6-0221-47b2-8baf-886522020f47",
   "metadata": {},
   "outputs": [
    {
     "data": {
      "text/plain": [
       "{'a': ['aardvark', 'antelope'], 'b': ['bear', 'bison'], 'c': ['cat']}"
      ]
     },
     "execution_count": 20,
     "metadata": {},
     "output_type": "execute_result"
    }
   ],
   "source": [
    "animals['c'] = ['cat']\n",
    "animals"
   ]
  },
  {
   "cell_type": "code",
   "execution_count": 22,
   "id": "987d0a4b-4fdf-4bbd-8991-8caa73d9140a",
   "metadata": {},
   "outputs": [
    {
     "data": {
      "text/plain": [
       "{'a': ['aardvark', 'antelope'],\n",
       " 'b': ['bear', 'bison'],\n",
       " 'c': ['cat', 'cat', 'cat']}"
      ]
     },
     "execution_count": 22,
     "metadata": {},
     "output_type": "execute_result"
    }
   ],
   "source": [
    "if 'c' not in animals:\n",
    "    animals['c'] = []\n",
    "animals['c'].append('cat')\n",
    "animals"
   ]
  },
  {
   "cell_type": "markdown",
   "id": "74bb79d2-bc75-480d-a995-ae8e88739316",
   "metadata": {},
   "source": [
    "#### The Default Dict"
   ]
  },
  {
   "cell_type": "code",
   "execution_count": null,
   "id": "5c302036-e6b1-4673-aa40-6285b863a441",
   "metadata": {},
   "outputs": [],
   "source": []
  },
  {
   "cell_type": "code",
   "execution_count": 27,
   "id": "80919a1c-8aee-40d8-98ac-ac153037bdf0",
   "metadata": {},
   "outputs": [
    {
     "data": {
      "text/plain": [
       "defaultdict(list, {})"
      ]
     },
     "execution_count": 27,
     "metadata": {},
     "output_type": "execute_result"
    }
   ],
   "source": [
    "animals = defaultdict(list)\n",
    "animals"
   ]
  },
  {
   "cell_type": "code",
   "execution_count": 28,
   "id": "f5a1fee7-3961-42d1-8751-fe270a320546",
   "metadata": {},
   "outputs": [
    {
     "data": {
      "text/plain": [
       "defaultdict(list, {'e': ['elephant']})"
      ]
     },
     "execution_count": 28,
     "metadata": {},
     "output_type": "execute_result"
    }
   ],
   "source": [
    "animals['e'].append('elephant')\n",
    "animals"
   ]
  },
  {
   "cell_type": "code",
   "execution_count": 29,
   "id": "3c49f067-7a4e-4fa9-aabc-5a62f00ddba7",
   "metadata": {},
   "outputs": [
    {
     "data": {
      "text/plain": [
       "defaultdict(list, {'e': ['elephant', 'emu']})"
      ]
     },
     "execution_count": 29,
     "metadata": {},
     "output_type": "execute_result"
    }
   ],
   "source": [
    "animals['e'].append('emu')\n",
    "animals"
   ]
  },
  {
   "cell_type": "code",
   "execution_count": 30,
   "id": "bc778921-002e-4b14-9ca0-19349729bd0c",
   "metadata": {},
   "outputs": [
    {
     "data": {
      "text/plain": [
       "[]"
      ]
     },
     "execution_count": 30,
     "metadata": {},
     "output_type": "execute_result"
    }
   ],
   "source": [
    "animals['f']"
   ]
  },
  {
   "cell_type": "code",
   "execution_count": null,
   "id": "9607ac62-2c3c-4d9c-972e-cfbbdcdd3261",
   "metadata": {},
   "outputs": [],
   "source": []
  }
 ],
 "metadata": {
  "kernelspec": {
   "display_name": "Python 3 (ipykernel)",
   "language": "python",
   "name": "python3"
  },
  "language_info": {
   "codemirror_mode": {
    "name": "ipython",
    "version": 3
   },
   "file_extension": ".py",
   "mimetype": "text/x-python",
   "name": "python",
   "nbconvert_exporter": "python",
   "pygments_lexer": "ipython3",
   "version": "3.11.8"
  }
 },
 "nbformat": 4,
 "nbformat_minor": 5
}

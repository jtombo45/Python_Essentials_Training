{
 "cells": [
  {
   "cell_type": "markdown",
   "id": "d335af5f-24ec-4838-9c07-b9a0f07c6432",
   "metadata": {},
   "source": [
    "# Sets"
   ]
  },
  {
   "cell_type": "markdown",
   "id": "e7c3df6b-4a4d-48d9-bfb0-b7cd11ca80a9",
   "metadata": {},
   "source": [
    "A set is declared by using curly brackets:  {}\n",
    "A set contains only unique values\n",
    "The order doesn't matter"
   ]
  },
  {
   "cell_type": "code",
   "execution_count": 1,
   "id": "b88c88d3-94c4-4fcd-86f2-2abfd38c9ac8",
   "metadata": {},
   "outputs": [
    {
     "data": {
      "text/plain": [
       "{'a', 'b', 'c'}"
      ]
     },
     "execution_count": 1,
     "metadata": {},
     "output_type": "execute_result"
    }
   ],
   "source": [
    "mySet = {'a','b','c'}\n",
    "mySet"
   ]
  },
  {
   "cell_type": "markdown",
   "id": "31113190-41eb-4b96-ad9b-b9d4105c2cf6",
   "metadata": {},
   "source": [
    "You can also define it by passing an sort of iterable object by using the constructor of set class"
   ]
  },
  {
   "cell_type": "code",
   "execution_count": 3,
   "id": "583781a6-b548-40b6-9e91-6f7311a983ec",
   "metadata": {},
   "outputs": [
    {
     "data": {
      "text/plain": [
       "{'a', 'b', 'c'}"
      ]
     },
     "execution_count": 3,
     "metadata": {},
     "output_type": "execute_result"
    }
   ],
   "source": [
    "mySet = set(['a','b','c']) # passing a list as a parameter\n",
    "mySet"
   ]
  },
  {
   "cell_type": "code",
   "execution_count": 4,
   "id": "ce867ab9-31ca-44dd-9644-11f86ee0b715",
   "metadata": {},
   "outputs": [
    {
     "data": {
      "text/plain": [
       "{'a', 'b', 'c'}"
      ]
     },
     "execution_count": 4,
     "metadata": {},
     "output_type": "execute_result"
    }
   ],
   "source": [
    "mySet = set(('a','b','c')) # passing a tuple as a parameter\n",
    "mySet"
   ]
  },
  {
   "cell_type": "code",
   "execution_count": 7,
   "id": "1a315471-cf6e-409c-b5d3-9c93437213dc",
   "metadata": {},
   "outputs": [
    {
     "data": {
      "text/plain": [
       "['a', 'b', 'c']"
      ]
     },
     "execution_count": 7,
     "metadata": {},
     "output_type": "execute_result"
    }
   ],
   "source": [
    "myList = ['a','b','b','c','c']\n",
    "myList = list(set(myList))\n",
    "myList"
   ]
  },
  {
   "cell_type": "code",
   "execution_count": 8,
   "id": "c30761ee-ce22-4c7b-9937-49443f99f126",
   "metadata": {},
   "outputs": [
    {
     "data": {
      "text/plain": [
       "{'a', 'b', 'c'}"
      ]
     },
     "execution_count": 8,
     "metadata": {},
     "output_type": "execute_result"
    }
   ],
   "source": [
    "myList = ['a','b','b','c','c']\n",
    "myList = set(myList)\n",
    "myList"
   ]
  },
  {
   "cell_type": "code",
   "execution_count": 9,
   "id": "4baedd27-e403-43c2-ae8f-b872095503b5",
   "metadata": {},
   "outputs": [
    {
     "ename": "TypeError",
     "evalue": "'set' object is not subscriptable",
     "output_type": "error",
     "traceback": [
      "\u001b[1;31m---------------------------------------------------------------------------\u001b[0m",
      "\u001b[1;31mTypeError\u001b[0m                                 Traceback (most recent call last)",
      "Cell \u001b[1;32mIn[9], line 1\u001b[0m\n\u001b[1;32m----> 1\u001b[0m \u001b[43mmySet\u001b[49m\u001b[43m[\u001b[49m\u001b[38;5;241;43m0\u001b[39;49m\u001b[43m]\u001b[49m\n",
      "\u001b[1;31mTypeError\u001b[0m: 'set' object is not subscriptable"
     ]
    }
   ],
   "source": [
    "mySet[0]"
   ]
  },
  {
   "cell_type": "code",
   "execution_count": 11,
   "id": "e8bc31cb-1a9b-4c34-8416-3dbb5158e509",
   "metadata": {},
   "outputs": [
    {
     "name": "stderr",
     "output_type": "stream",
     "text": [
      "<>:2: SyntaxWarning: 'int' object is not subscriptable; perhaps you missed a comma?\n",
      "<>:2: SyntaxWarning: 'int' object is not subscriptable; perhaps you missed a comma?\n",
      "C:\\Users\\JTOMBO\\AppData\\Local\\Temp\\ipykernel_8092\\2203923273.py:2: SyntaxWarning: 'int' object is not subscriptable; perhaps you missed a comma?\n",
      "  1[0]\n"
     ]
    },
    {
     "ename": "TypeError",
     "evalue": "'int' object is not subscriptable",
     "output_type": "error",
     "traceback": [
      "\u001b[1;31m---------------------------------------------------------------------------\u001b[0m",
      "\u001b[1;31mTypeError\u001b[0m                                 Traceback (most recent call last)",
      "Cell \u001b[1;32mIn[11], line 2\u001b[0m\n\u001b[0;32m      1\u001b[0m number \u001b[38;5;241m=\u001b[39m \u001b[38;5;241m1\u001b[39m\n\u001b[1;32m----> 2\u001b[0m \u001b[38;5;241;43m1\u001b[39;49m\u001b[43m[\u001b[49m\u001b[38;5;241;43m0\u001b[39;49m\u001b[43m]\u001b[49m\n",
      "\u001b[1;31mTypeError\u001b[0m: 'int' object is not subscriptable"
     ]
    }
   ],
   "source": [
    "number = 1\n",
    "1[0]"
   ]
  },
  {
   "cell_type": "code",
   "execution_count": 12,
   "id": "6595d07a-9e07-4968-b7d2-088960a225df",
   "metadata": {},
   "outputs": [
    {
     "data": {
      "text/plain": [
       "{'a', 'b', 'c', 'd'}"
      ]
     },
     "execution_count": 12,
     "metadata": {},
     "output_type": "execute_result"
    }
   ],
   "source": [
    "mySet.add('d')\n",
    "mySet"
   ]
  },
  {
   "cell_type": "code",
   "execution_count": 13,
   "id": "cf808bf3-c32a-4285-b18e-de1120d261b3",
   "metadata": {},
   "outputs": [
    {
     "data": {
      "text/plain": [
       "True"
      ]
     },
     "execution_count": 13,
     "metadata": {},
     "output_type": "execute_result"
    }
   ],
   "source": [
    "'a' in mySet"
   ]
  },
  {
   "cell_type": "code",
   "execution_count": 14,
   "id": "6d026fa3-9200-4390-9a7c-de01f11bef7c",
   "metadata": {},
   "outputs": [
    {
     "data": {
      "text/plain": [
       "False"
      ]
     },
     "execution_count": 14,
     "metadata": {},
     "output_type": "execute_result"
    }
   ],
   "source": [
    "'z' in mySet"
   ]
  },
  {
   "cell_type": "code",
   "execution_count": 15,
   "id": "5bda0b3b-a14a-44a2-9500-528e2b8a9839",
   "metadata": {},
   "outputs": [
    {
     "data": {
      "text/plain": [
       "4"
      ]
     },
     "execution_count": 15,
     "metadata": {},
     "output_type": "execute_result"
    }
   ],
   "source": [
    "len(mySet)"
   ]
  },
  {
   "cell_type": "code",
   "execution_count": null,
   "id": "62433199-99cb-49ce-a64c-cde10af5902c",
   "metadata": {},
   "outputs": [],
   "source": [
    "Iterating over a set"
   ]
  },
  {
   "cell_type": "code",
   "execution_count": 16,
   "id": "fcf9f167-aee9-4687-8658-d98344722e4a",
   "metadata": {},
   "outputs": [
    {
     "name": "stdout",
     "output_type": "stream",
     "text": [
      "a\n",
      "d\n",
      "b\n",
      "c\n"
     ]
    }
   ],
   "source": [
    "while len(mySet):\n",
    "    print(mySet.pop())"
   ]
  },
  {
   "cell_type": "code",
   "execution_count": 17,
   "id": "ba87c400-7e1f-4e66-859e-a15667d1a461",
   "metadata": {},
   "outputs": [
    {
     "data": {
      "text/plain": [
       "set()"
      ]
     },
     "execution_count": 17,
     "metadata": {},
     "output_type": "execute_result"
    }
   ],
   "source": [
    "mySet"
   ]
  },
  {
   "cell_type": "code",
   "execution_count": 18,
   "id": "88adbd9a-f75e-4f67-ada3-ae570a85dd32",
   "metadata": {},
   "outputs": [],
   "source": [
    "mySet = {'a','b','c'}"
   ]
  },
  {
   "cell_type": "code",
   "execution_count": 20,
   "id": "77d08504-f25b-4c6c-bfda-f41922c38ed7",
   "metadata": {},
   "outputs": [
    {
     "data": {
      "text/plain": [
       "{'b', 'c'}"
      ]
     },
     "execution_count": 20,
     "metadata": {},
     "output_type": "execute_result"
    }
   ],
   "source": [
    "mySet.discard('a')\n",
    "mySet"
   ]
  },
  {
   "cell_type": "markdown",
   "id": "4d98b93f-5f0f-4bc5-a0d2-c7aab3bb6d7c",
   "metadata": {},
   "source": [
    "# Tuples"
   ]
  },
  {
   "cell_type": "code",
   "execution_count": null,
   "id": "f2d280aa-cb25-470b-a061-00b26c6264ef",
   "metadata": {},
   "outputs": [],
   "source": [
    "Declared with parentheses: ()\n",
    "Are ordered and \"subscriptable\"\n",
    "Cannot be modified\n",
    "More efficient lists, since size is constant\n",
    "They don't grow or change\n",
    "Store compactly in memory, memory is only allocated as needed"
   ]
  },
  {
   "cell_type": "code",
   "execution_count": 21,
   "id": "6270e700-cdbf-4b4a-a006-efc1f98d0d1d",
   "metadata": {},
   "outputs": [
    {
     "data": {
      "text/plain": [
       "{'a', 'b', 'c'}"
      ]
     },
     "execution_count": 21,
     "metadata": {},
     "output_type": "execute_result"
    }
   ],
   "source": [
    "myTuple = {'a','b','c'}\n",
    "myTuple"
   ]
  },
  {
   "cell_type": "code",
   "execution_count": 22,
   "id": "e448c0c3-3387-41da-8ca8-3a4c3be340fd",
   "metadata": {},
   "outputs": [
    {
     "data": {
      "text/plain": [
       "tuple"
      ]
     },
     "execution_count": 22,
     "metadata": {},
     "output_type": "execute_result"
    }
   ],
   "source": [
    "def returnsMultipleValues():\n",
    "    return 1,2,3 #prefered for industry standard\n",
    "type(returnsMultipleValues())"
   ]
  },
  {
   "cell_type": "code",
   "execution_count": 23,
   "id": "60c039da-a903-41ab-8838-3f100dc22fef",
   "metadata": {},
   "outputs": [
    {
     "data": {
      "text/plain": [
       "tuple"
      ]
     },
     "execution_count": 23,
     "metadata": {},
     "output_type": "execute_result"
    }
   ],
   "source": [
    "def returnsMultipleValues():\n",
    "    return (1,2,3)\n",
    "type(returnsMultipleValues())"
   ]
  },
  {
   "cell_type": "code",
   "execution_count": 24,
   "id": "56aa190c-832a-48a6-83d3-1723eeade478",
   "metadata": {},
   "outputs": [
    {
     "data": {
      "text/plain": [
       "tuple"
      ]
     },
     "execution_count": 24,
     "metadata": {},
     "output_type": "execute_result"
    }
   ],
   "source": [
    "myTuple = 1,2,3\n",
    "type(myTuple)"
   ]
  },
  {
   "cell_type": "code",
   "execution_count": 25,
   "id": "7cab3c2e-19dd-477a-bece-2d2529fb8f46",
   "metadata": {},
   "outputs": [
    {
     "data": {
      "text/plain": [
       "tuple"
      ]
     },
     "execution_count": 25,
     "metadata": {},
     "output_type": "execute_result"
    }
   ],
   "source": [
    "myTuple = (1,2,3) #prefered for industry standard\n",
    "type(myTuple)"
   ]
  },
  {
   "cell_type": "code",
   "execution_count": 26,
   "id": "e152cccb-f92f-436a-9703-9d35bb44db3c",
   "metadata": {},
   "outputs": [],
   "source": [
    "a,b,c = returnsMultipleValues()"
   ]
  },
  {
   "cell_type": "code",
   "execution_count": 27,
   "id": "a2300d7d-41e5-479b-b90c-03a079e2a016",
   "metadata": {},
   "outputs": [
    {
     "name": "stdout",
     "output_type": "stream",
     "text": [
      "1\n",
      "2\n",
      "3\n"
     ]
    }
   ],
   "source": [
    "print(a)\n",
    "print(b)\n",
    "print(c)"
   ]
  },
  {
   "cell_type": "code",
   "execution_count": null,
   "id": "f7ecd3a7-2488-4f4a-9c0f-5a26c9adb426",
   "metadata": {},
   "outputs": [],
   "source": []
  }
 ],
 "metadata": {
  "kernelspec": {
   "display_name": "Python 3 (ipykernel)",
   "language": "python",
   "name": "python3"
  },
  "language_info": {
   "codemirror_mode": {
    "name": "ipython",
    "version": 3
   },
   "file_extension": ".py",
   "mimetype": "text/x-python",
   "name": "python",
   "nbconvert_exporter": "python",
   "pygments_lexer": "ipython3",
   "version": "3.11.8"
  }
 },
 "nbformat": 4,
 "nbformat_minor": 5
}

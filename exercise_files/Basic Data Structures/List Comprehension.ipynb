{
 "cells": [
  {
   "cell_type": "markdown",
   "id": "a7d8eaa4-3e87-496e-99e0-0ff5923e2cec",
   "metadata": {},
   "source": [
    "# List Comprehensions"
   ]
  },
  {
   "cell_type": "markdown",
   "id": "dd087442-e864-4662-880d-f1cd102b8e91",
   "metadata": {},
   "source": [
    "The comprehension is has to do more with the word comprehensive (complete; including all or nearly all elements or aspects of something) than comprehension.\n",
    "Used to generate clean, readable, \"Pythonic\" code"
   ]
  },
  {
   "cell_type": "code",
   "execution_count": 1,
   "id": "c66d7eab-475f-47ee-b802-4ac4c7d5a726",
   "metadata": {},
   "outputs": [
    {
     "data": {
      "text/plain": [
       "[2, 4, 6, 8, 10]"
      ]
     },
     "execution_count": 1,
     "metadata": {},
     "output_type": "execute_result"
    }
   ],
   "source": [
    "myList = [1,2,3,4,5]\n",
    "[2*item for item in myList]"
   ]
  },
  {
   "cell_type": "markdown",
   "id": "ad0d9ee1-92f8-45c7-af38-9bfee8408579",
   "metadata": {},
   "source": [
    "#### List comprehensions with filters"
   ]
  },
  {
   "cell_type": "code",
   "execution_count": 6,
   "id": "90d8cc60-cc83-4a5f-9f66-7f217b9a28f5",
   "metadata": {},
   "outputs": [
    {
     "data": {
      "text/plain": [
       "[0, 10, 20, 30, 40, 50, 60, 70, 80, 90]"
      ]
     },
     "execution_count": 6,
     "metadata": {},
     "output_type": "execute_result"
    }
   ],
   "source": [
    "myList = list(range(100))\n",
    "filteredList = [item for item in myList if item % 10 == 0]\n",
    "filteredList"
   ]
  },
  {
   "cell_type": "code",
   "execution_count": 7,
   "id": "301dc641-57b8-4a46-869a-264f538e0bc7",
   "metadata": {},
   "outputs": [
    {
     "name": "stdout",
     "output_type": "stream",
     "text": [
      "[0, 1, 2, 10, 11, 12, 20, 21, 22, 30, 31, 32, 40, 41, 42, 50, 51, 52, 60, 61, 62, 70, 71, 72, 80, 81, 82, 90, 91, 92]\n"
     ]
    }
   ],
   "source": [
    "filteredList = [item for item in myList if item % 10 < 3]\n",
    "print(filteredList)"
   ]
  },
  {
   "cell_type": "code",
   "execution_count": null,
   "id": "55a23171-a6e4-4983-85bd-f8dc25ea07a9",
   "metadata": {},
   "outputs": [],
   "source": []
  },
  {
   "cell_type": "markdown",
   "id": "17774f53-5601-491b-83ae-e867c530b0b2",
   "metadata": {},
   "source": [
    "#### List comprehensions with functions"
   ]
  },
  {
   "cell_type": "code",
   "execution_count": 8,
   "id": "39ce592f-9e57-4929-9912-a1e024b97e18",
   "metadata": {},
   "outputs": [
    {
     "data": {
      "text/plain": [
       "['My name is Ryan Mitchell', ' I live in Boston']"
      ]
     },
     "execution_count": 8,
     "metadata": {},
     "output_type": "execute_result"
    }
   ],
   "source": [
    "myString = 'My name is Ryan Mitchell. I live in Boston'\n",
    "myString.split('.')"
   ]
  },
  {
   "cell_type": "code",
   "execution_count": 9,
   "id": "cf85caf7-6942-4425-80f6-c74cc7863609",
   "metadata": {},
   "outputs": [
    {
     "data": {
      "text/plain": [
       "['My', 'name', 'is', 'Ryan', 'Mitchell.', 'I', 'live', 'in', 'Boston']"
      ]
     },
     "execution_count": 9,
     "metadata": {},
     "output_type": "execute_result"
    }
   ],
   "source": [
    "myString.split()"
   ]
  },
  {
   "cell_type": "code",
   "execution_count": 12,
   "id": "dff50359-91ca-4056-81bc-2a5c54f1c618",
   "metadata": {},
   "outputs": [
    {
     "data": {
      "text/plain": [
       "['my', 'name', 'is', 'ryan', 'mitchell', 'i', 'live', 'in', 'boston']"
      ]
     },
     "execution_count": 12,
     "metadata": {},
     "output_type": "execute_result"
    }
   ],
   "source": [
    "def cleanWord(word):\n",
    "    return word.replace('.','').lower() #chaining functions when calling multiple functions -> replace, lower case\n",
    "[cleanWord(word) for word in myString.split()]"
   ]
  },
  {
   "cell_type": "code",
   "execution_count": 13,
   "id": "7a78b20c-3837-4577-aaf6-d9f4362c6f71",
   "metadata": {},
   "outputs": [
    {
     "data": {
      "text/plain": [
       "['my', 'is', 'i', 'in']"
      ]
     },
     "execution_count": 13,
     "metadata": {},
     "output_type": "execute_result"
    }
   ],
   "source": [
    "[cleanWord(word) for word in myString.split() if len(cleanWord(word)) < 3]"
   ]
  },
  {
   "cell_type": "markdown",
   "id": "57b533fc-215b-451c-bdab-fb9bc91614da",
   "metadata": {},
   "source": [
    "#### Nested list comprehensions"
   ]
  },
  {
   "cell_type": "code",
   "execution_count": 14,
   "id": "f944ef7b-a119-4e24-884e-0b55d933a12c",
   "metadata": {},
   "outputs": [
    {
     "data": {
      "text/plain": [
       "[['my', 'name', 'is', 'ryan', 'mitchell'], ['i', 'live', 'in', 'boston']]"
      ]
     },
     "execution_count": 14,
     "metadata": {},
     "output_type": "execute_result"
    }
   ],
   "source": [
    "[[cleanWord(word) for word in sentence.split()] for sentence in myString.split('.')] \n",
    "# the right most code split/parition the string by the dot to create 2 arrays\n",
    "# the left most code calls the function function cleanWord to remove/replace the dot by an empty value"
   ]
  },
  {
   "cell_type": "code",
   "execution_count": null,
   "id": "972c0054-d6f4-46aa-b92e-840bb5054631",
   "metadata": {},
   "outputs": [],
   "source": []
  }
 ],
 "metadata": {
  "kernelspec": {
   "display_name": "Python 3 (ipykernel)",
   "language": "python",
   "name": "python3"
  },
  "language_info": {
   "codemirror_mode": {
    "name": "ipython",
    "version": 3
   },
   "file_extension": ".py",
   "mimetype": "text/x-python",
   "name": "python",
   "nbconvert_exporter": "python",
   "pygments_lexer": "ipython3",
   "version": "3.11.8"
  }
 },
 "nbformat": 4,
 "nbformat_minor": 5
}

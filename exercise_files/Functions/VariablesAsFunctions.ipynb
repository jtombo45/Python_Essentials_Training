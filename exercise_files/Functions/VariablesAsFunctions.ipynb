{
 "cells": [
  {
   "cell_type": "markdown",
   "id": "4664621e-4b90-41bb-a218-0150977b5319",
   "metadata": {},
   "source": [
    "# Variables as Functions"
   ]
  },
  {
   "cell_type": "code",
   "execution_count": 4,
   "id": "df737dc3-7f3a-46f3-a67a-a89e129d1580",
   "metadata": {},
   "outputs": [],
   "source": [
    "x = 5"
   ]
  },
  {
   "cell_type": "code",
   "execution_count": 5,
   "id": "f9deb1df-d54d-45d0-935e-cc9fa55c2cad",
   "metadata": {},
   "outputs": [],
   "source": [
    "def x():\n",
    "    return 5"
   ]
  },
  {
   "cell_type": "markdown",
   "id": "cc6da7ed-133e-4ae3-83b4-e0f84cfe6555",
   "metadata": {},
   "source": [
    "### Viewing funciton data __code__"
   ]
  },
  {
   "cell_type": "code",
   "execution_count": 6,
   "id": "9dcf68b1-b8e2-4b08-a56f-f62cde224af4",
   "metadata": {},
   "outputs": [
    {
     "name": "stdout",
     "output_type": "stream",
     "text": [
      "()\n",
      "b'\\x97\\x00d\\x01S\\x00'\n"
     ]
    }
   ],
   "source": [
    "print(x.__code__.co_varnames) # the variable name of the function x\n",
    "print(x.__code__.co_code) # is a python byte object that represents all of th lines of instructions in the function x"
   ]
  },
  {
   "cell_type": "markdown",
   "id": "7af5cfea-1e05-4538-af9a-cc0dedce0fe4",
   "metadata": {},
   "source": [
    "### Text processing in Python"
   ]
  },
  {
   "cell_type": "code",
   "execution_count": 2,
   "id": "c6dd8876-25a8-420c-aa95-e897e6885bed",
   "metadata": {},
   "outputs": [],
   "source": [
    "text = '''\n",
    "Beautiful is better than ugly.\n",
    "Explicit is better than implicit.\n",
    "Simple is better than complex.\n",
    "Complex is better than complicated.\n",
    "Flat is better than nested.\n",
    "Sparse is better than dense.\n",
    "Readability counts.\n",
    "Special cases aren't special enough to break the rules.\n",
    "Although practicality beats purity.\n",
    "Errors should never pass silently.\n",
    "Unless explicitly silenced.\n",
    "In the face of ambiguity, refuse the temptation to guess.\n",
    "There should be one-- and preferably only one --obvious way to do it.\n",
    "Although that way may not be obvious at first unless you're Dutch.\n",
    "Now is better than never.\n",
    "Although never is often better than *right* now.\n",
    "If the implementation is hard to explain, it's a bad idea.\n",
    "If the implementation is easy to explain, it may be a good idea.\n",
    "Namespaces are one honking great idea -- let's do more of those!\n",
    "'''"
   ]
  },
  {
   "cell_type": "code",
   "execution_count": 7,
   "id": "1089caff-3a9d-45e4-aa4d-2aadbe8a01df",
   "metadata": {},
   "outputs": [],
   "source": [
    "def lowercase(text):\n",
    "    return text.lower()\n",
    "\n",
    "def removePunctuation(text):\n",
    "    punctuations = ['.','-',',','*']\n",
    "    for punctuation in punctuations:\n",
    "        text = text.replace(punctuation,'')\n",
    "    return text\n",
    "\n",
    "def removeNewLines(text):\n",
    "    text = text.replace('\\n', ' ')\n",
    "    return text\n",
    "    \n",
    "def removeShortWords(text):\n",
    "    return ' '.join([word for word in text.split() if len(word) > 3])\n",
    "\n",
    "def removeLongWords(text):\n",
    "    return ' '.join([word for word in text.split() if len(word) < 6])"
   ]
  },
  {
   "cell_type": "code",
   "execution_count": 9,
   "id": "bb652e74-e301-4c7b-acc5-b0059f3f8562",
   "metadata": {},
   "outputs": [
    {
     "name": "stdout",
     "output_type": "stream",
     "text": [
      " beautiful is better than ugly explicit is better than implicit simple is better than complex complex is better than complicated flat is better than nested sparse is better than dense readability counts special cases aren't special enough to break the rules although practicality beats purity errors should never pass silently unless explicitly silenced in the face of ambiguity refuse the temptation to guess there should be one and preferably only one obvious way to do it although that way may not be obvious at first unless you're dutch now is better than never although never is often better than right now if the implementation is hard to explain it's a bad idea if the implementation is easy to explain it may be a good idea namespaces are one honking great idea  let's do more of those! \n"
     ]
    }
   ],
   "source": [
    "processingFunctions = [lowercase, removePunctuation, removeNewLines]\n",
    "\n",
    "for func in processingFunctions:\n",
    "    text = func(text)\n",
    "\n",
    "print(text)"
   ]
  },
  {
   "cell_type": "markdown",
   "id": "246e7091-309e-4d8c-85c1-67944437bb26",
   "metadata": {},
   "source": [
    "### Lambda functions"
   ]
  },
  {
   "cell_type": "markdown",
   "id": "e44fe135-1ef1-4838-83fa-e9e3a984e0ea",
   "metadata": {},
   "source": [
    "Convenient way to write \"mini functions\" as values"
   ]
  },
  {
   "cell_type": "code",
   "execution_count": 10,
   "id": "1f234972-8cb1-4249-9d1e-f5a0eb22ce57",
   "metadata": {},
   "outputs": [
    {
     "data": {
      "text/plain": [
       "5"
      ]
     },
     "execution_count": 10,
     "metadata": {},
     "output_type": "execute_result"
    }
   ],
   "source": [
    "2 + 3"
   ]
  },
  {
   "cell_type": "code",
   "execution_count": 11,
   "id": "8fc133ac-b9cd-4c4b-9196-71612053ae83",
   "metadata": {},
   "outputs": [
    {
     "data": {
      "text/plain": [
       "8"
      ]
     },
     "execution_count": 11,
     "metadata": {},
     "output_type": "execute_result"
    }
   ],
   "source": [
    "(lambda x: x + 3)(5)"
   ]
  },
  {
   "cell_type": "code",
   "execution_count": 12,
   "id": "8eceb55c-359e-4add-8dbb-2a3db20336d0",
   "metadata": {},
   "outputs": [
    {
     "data": {
      "text/plain": [
       "[2, 3, 4, 5]"
      ]
     },
     "execution_count": 12,
     "metadata": {},
     "output_type": "execute_result"
    }
   ],
   "source": [
    "myList = [5,4,3,2]\n",
    "sorted(myList)"
   ]
  },
  {
   "cell_type": "code",
   "execution_count": 13,
   "id": "807ee32b-a9a7-45ca-9666-55a72f5b0853",
   "metadata": {},
   "outputs": [
    {
     "ename": "TypeError",
     "evalue": "'<' not supported between instances of 'dict' and 'dict'",
     "output_type": "error",
     "traceback": [
      "\u001b[1;31m---------------------------------------------------------------------------\u001b[0m",
      "\u001b[1;31mTypeError\u001b[0m                                 Traceback (most recent call last)",
      "Cell \u001b[1;32mIn[13], line 2\u001b[0m\n\u001b[0;32m      1\u001b[0m myList \u001b[38;5;241m=\u001b[39m [{\u001b[38;5;124m'\u001b[39m\u001b[38;5;124mnum\u001b[39m\u001b[38;5;124m'\u001b[39m:\u001b[38;5;241m3\u001b[39m}, {\u001b[38;5;124m'\u001b[39m\u001b[38;5;124mnum\u001b[39m\u001b[38;5;124m'\u001b[39m:\u001b[38;5;241m2\u001b[39m}, {\u001b[38;5;124m'\u001b[39m\u001b[38;5;124mnum\u001b[39m\u001b[38;5;124m'\u001b[39m:\u001b[38;5;241m1\u001b[39m}]\n\u001b[1;32m----> 2\u001b[0m \u001b[38;5;28;43msorted\u001b[39;49m\u001b[43m(\u001b[49m\u001b[43mmyList\u001b[49m\u001b[43m)\u001b[49m\n",
      "\u001b[1;31mTypeError\u001b[0m: '<' not supported between instances of 'dict' and 'dict'"
     ]
    }
   ],
   "source": [
    "myList = [{'num':3}, {'num':2}, {'num':1}]\n",
    "sorted(myList)"
   ]
  },
  {
   "cell_type": "code",
   "execution_count": 14,
   "id": "2db54a24-ea9c-4c49-ab44-9fadc7ce22d5",
   "metadata": {},
   "outputs": [
    {
     "data": {
      "text/plain": [
       "[{'num': 1}, {'num': 2}, {'num': 3}]"
      ]
     },
     "execution_count": 14,
     "metadata": {},
     "output_type": "execute_result"
    }
   ],
   "source": [
    "myList = [{'num':3}, {'num':2}, {'num':1}]\n",
    "sorted(myList, key=lambda x: x['num'])"
   ]
  }
 ],
 "metadata": {
  "kernelspec": {
   "display_name": "Python 3 (ipykernel)",
   "language": "python",
   "name": "python3"
  },
  "language_info": {
   "codemirror_mode": {
    "name": "ipython",
    "version": 3
   },
   "file_extension": ".py",
   "mimetype": "text/x-python",
   "name": "python",
   "nbconvert_exporter": "python",
   "pygments_lexer": "ipython3",
   "version": "3.11.8"
  }
 },
 "nbformat": 4,
 "nbformat_minor": 5
}

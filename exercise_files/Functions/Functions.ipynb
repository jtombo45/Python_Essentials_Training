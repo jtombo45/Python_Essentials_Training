{
 "cells": [
  {
   "cell_type": "markdown",
   "id": "24216302-f1ee-4d67-82da-7e116ca1d1c2",
   "metadata": {},
   "source": [
    "# Functions"
   ]
  },
  {
   "cell_type": "markdown",
   "id": "9ad258f1-ab26-4699-88a8-399d2e0d684a",
   "metadata": {},
   "source": [
    "Anticipate all the variables the user might be passing in, that where arg and kwargs come in"
   ]
  },
  {
   "cell_type": "code",
   "execution_count": 10,
   "id": "2085665e-7d95-4056-9df1-955dfe532f49",
   "metadata": {},
   "outputs": [],
   "source": [
    "import math"
   ]
  },
  {
   "cell_type": "code",
   "execution_count": 3,
   "id": "c35fe626-9f63-443e-b145-560de60a0fb9",
   "metadata": {},
   "outputs": [
    {
     "data": {
      "text/plain": [
       "5"
      ]
     },
     "execution_count": 3,
     "metadata": {},
     "output_type": "execute_result"
    }
   ],
   "source": [
    "def performOperation(num1, num2, operation):\n",
    "    if operation == 'sum':\n",
    "        return num1 + num2\n",
    "    if operation == 'multiply':\n",
    "        return num1 * num2\n",
    "performOperation(2,3,'sum')"
   ]
  },
  {
   "cell_type": "code",
   "execution_count": 4,
   "id": "11ee8419-8093-47e6-92e9-fe1bb5db818e",
   "metadata": {},
   "outputs": [
    {
     "data": {
      "text/plain": [
       "5"
      ]
     },
     "execution_count": 4,
     "metadata": {},
     "output_type": "execute_result"
    }
   ],
   "source": [
    "def performOperation(num1, num2, operation='sum'):\n",
    "    if operation == 'sum':\n",
    "        return num1 + num2\n",
    "    if operation == 'multiply':\n",
    "        return num1 * num2\n",
    "performOperation(2,3)"
   ]
  },
  {
   "cell_type": "code",
   "execution_count": 5,
   "id": "ea556f44-d14d-46e0-8294-613139e20465",
   "metadata": {},
   "outputs": [
    {
     "data": {
      "text/plain": [
       "6"
      ]
     },
     "execution_count": 5,
     "metadata": {},
     "output_type": "execute_result"
    }
   ],
   "source": [
    "def performOperation(num1, num2, operation):\n",
    "    if operation == 'sum':\n",
    "        return num1 + num2\n",
    "    if operation == 'multiply':\n",
    "        return num1 * num2\n",
    "performOperation(2,3,operation='multiply')"
   ]
  },
  {
   "cell_type": "markdown",
   "id": "39319a9e-0487-481e-9972-71a0b9e0aad7",
   "metadata": {},
   "source": [
    "#### Named Parameters"
   ]
  },
  {
   "cell_type": "code",
   "execution_count": 6,
   "id": "1ef6c641-8eb1-4201-a3ca-7c6d5c10a564",
   "metadata": {},
   "outputs": [
    {
     "data": {
      "text/plain": [
       "5"
      ]
     },
     "execution_count": 6,
     "metadata": {},
     "output_type": "execute_result"
    }
   ],
   "source": [
    "def performOperation(num1, num2, operation='sum'):\n",
    "    if operation == 'sum':\n",
    "        return num1 + num2\n",
    "    if operation == 'multiply':\n",
    "        return num1 * num2\n",
    "performOperation(2,3)"
   ]
  },
  {
   "cell_type": "code",
   "execution_count": 9,
   "id": "7a73245c-f362-47bc-ac46-6b5beff735e2",
   "metadata": {},
   "outputs": [
    {
     "name": "stdout",
     "output_type": "stream",
     "text": [
      "A new message\n"
     ]
    },
    {
     "data": {
      "text/plain": [
       "6"
      ]
     },
     "execution_count": 9,
     "metadata": {},
     "output_type": "execute_result"
    }
   ],
   "source": [
    "def performOperation(num1, num2, operation='sum', message='Default message'):\n",
    "    print(message)\n",
    "    if operation == 'sum':\n",
    "        return num1 + num2\n",
    "    if operation == 'multiply':\n",
    "        return num1 * num2\n",
    "performOperation(2,3, message='A new message', operation='multiply')"
   ]
  },
  {
   "cell_type": "markdown",
   "id": "85aad65f-a844-43d7-bd3c-1dccd7b67cca",
   "metadata": {},
   "source": [
    "#### *args"
   ]
  },
  {
   "cell_type": "markdown",
   "id": "b5def81a-e6d9-49ef-9de3-9a45842db17e",
   "metadata": {},
   "source": [
    "Keyword arguments must come after positional arguements\n",
    "\n",
    "Afterwards, keyword arguements can be in any order\n"
   ]
  },
  {
   "cell_type": "code",
   "execution_count": 13,
   "id": "7bb8cad4-7da0-4d59-b713-aa952acf217d",
   "metadata": {},
   "outputs": [],
   "source": [
    "def performOperation(*args):\n",
    "    print(args)"
   ]
  },
  {
   "cell_type": "code",
   "execution_count": 14,
   "id": "e09dbc8a-c94e-491f-93fc-c6bdb234aef2",
   "metadata": {},
   "outputs": [
    {
     "name": "stdout",
     "output_type": "stream",
     "text": [
      "(1, 2, 3)\n"
     ]
    }
   ],
   "source": [
    "performOperation(1,2,3)"
   ]
  },
  {
   "cell_type": "code",
   "execution_count": 15,
   "id": "839e1f49-d332-4ba6-a3ae-76247d03972d",
   "metadata": {},
   "outputs": [
    {
     "ename": "TypeError",
     "evalue": "performOperation() got an unexpected keyword argument 'operation'",
     "output_type": "error",
     "traceback": [
      "\u001b[1;31m---------------------------------------------------------------------------\u001b[0m",
      "\u001b[1;31mTypeError\u001b[0m                                 Traceback (most recent call last)",
      "Cell \u001b[1;32mIn[15], line 1\u001b[0m\n\u001b[1;32m----> 1\u001b[0m \u001b[43mperformOperation\u001b[49m\u001b[43m(\u001b[49m\u001b[38;5;241;43m1\u001b[39;49m\u001b[43m,\u001b[49m\u001b[38;5;241;43m2\u001b[39;49m\u001b[43m,\u001b[49m\u001b[38;5;241;43m3\u001b[39;49m\u001b[43m,\u001b[49m\u001b[43m \u001b[49m\u001b[43moperation\u001b[49m\u001b[38;5;241;43m=\u001b[39;49m\u001b[38;5;124;43m'\u001b[39;49m\u001b[38;5;124;43msum\u001b[39;49m\u001b[38;5;124;43m'\u001b[39;49m\u001b[43m)\u001b[49m\n",
      "\u001b[1;31mTypeError\u001b[0m: performOperation() got an unexpected keyword argument 'operation'"
     ]
    }
   ],
   "source": [
    "performOperation(1,2,3, operation='sum')"
   ]
  },
  {
   "cell_type": "markdown",
   "id": "abf74225-b0e0-40fd-b76a-7e059736be04",
   "metadata": {},
   "source": [
    "##### **kwargs"
   ]
  },
  {
   "cell_type": "code",
   "execution_count": 16,
   "id": "b0bb19f7-7fe5-4b76-974b-7a27a8107576",
   "metadata": {},
   "outputs": [],
   "source": [
    "def performOperation(*args, **kwargs):\n",
    "    print(args)\n",
    "    print(kwargs)"
   ]
  },
  {
   "cell_type": "code",
   "execution_count": 17,
   "id": "3ff07173-7939-4722-8236-c4f752c81eb6",
   "metadata": {},
   "outputs": [
    {
     "name": "stdout",
     "output_type": "stream",
     "text": [
      "(1, 2, 3)\n",
      "{'operation': 'sum'}\n"
     ]
    }
   ],
   "source": [
    "performOperation(1,2,3, operation='sum')"
   ]
  },
  {
   "cell_type": "code",
   "execution_count": 22,
   "id": "e4b076ab-6148-4dfb-8782-5e2f686f82c2",
   "metadata": {},
   "outputs": [],
   "source": [
    "def performOperation(*args, operation='sum'):\n",
    "    if operation == 'sum':\n",
    "        return sum(args)\n",
    "    if operation == 'multiply':\n",
    "        return prod(args)"
   ]
  },
  {
   "cell_type": "code",
   "execution_count": 24,
   "id": "70a9740b-273a-41da-a9e5-09fa31dfd44a",
   "metadata": {},
   "outputs": [
    {
     "data": {
      "text/plain": [
       "5"
      ]
     },
     "execution_count": 24,
     "metadata": {},
     "output_type": "execute_result"
    }
   ],
   "source": [
    "performOperation(2, 3, operation='sum')"
   ]
  },
  {
   "cell_type": "code",
   "execution_count": null,
   "id": "628f6fb5-d2c2-4e2e-aac5-26561290905b",
   "metadata": {},
   "outputs": [],
   "source": [
    "performOperation(2, 3, operation='s')"
   ]
  }
 ],
 "metadata": {
  "kernelspec": {
   "display_name": "Python 3 (ipykernel)",
   "language": "python",
   "name": "python3"
  },
  "language_info": {
   "codemirror_mode": {
    "name": "ipython",
    "version": 3
   },
   "file_extension": ".py",
   "mimetype": "text/x-python",
   "name": "python",
   "nbconvert_exporter": "python",
   "pygments_lexer": "ipython3",
   "version": "3.11.8"
  }
 },
 "nbformat": 4,
 "nbformat_minor": 5
}

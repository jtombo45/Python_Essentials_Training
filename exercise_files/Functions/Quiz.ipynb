{
 "cells": [
  {
   "cell_type": "markdown",
   "id": "e614882f-3426-4707-9246-de1eb87f2f6d",
   "metadata": {},
   "source": [
    "# Question 1\n",
    "What will be printed when this code is run?"
   ]
  },
  {
   "cell_type": "code",
   "execution_count": 1,
   "id": "bee406d0-471a-4098-9e56-8154aaa9c233",
   "metadata": {},
   "outputs": [
    {
     "name": "stdout",
     "output_type": "stream",
     "text": [
      "3, 2\n"
     ]
    }
   ],
   "source": [
    "var1 = 1\n",
    "var2 = 2\n",
    "def someFunc(var1):\n",
    "    print(f'{var1}, {var2}')\n",
    "\n",
    "someFunc(3)"
   ]
  },
  {
   "cell_type": "markdown",
   "id": "736d5d83-3cf0-4d90-a199-56c7cc3515e9",
   "metadata": {},
   "source": [
    "3, 2"
   ]
  },
  {
   "cell_type": "code",
   "execution_count": null,
   "id": "96ae28aa-4e31-4e3b-b71f-8531092ebaf3",
   "metadata": {},
   "outputs": [],
   "source": [
    "# Question 2\n",
    "What is not a valid way to call a function with this definition?"
   ]
  },
  {
   "cell_type": "code",
   "execution_count": null,
   "id": "bb4bdb7a-23e2-4b16-8397-aeaf7ae5e07f",
   "metadata": {},
   "outputs": [],
   "source": [
    "def someFunc(var1, var2, var3, var4):"
   ]
  },
  {
   "cell_type": "markdown",
   "id": "05f6fed7-f011-449a-9b21-c1fe0128ea84",
   "metadata": {},
   "source": [
    "- someFunc(var1=1, var2=2, var4=4, var3=3)\n",
    "- someFunc(1,2,3,4)\n",
    "- someFunc(1, 2, var4=4, var3=3)\n",
    "- someFunc(var1=1,2,3,4)"
   ]
  },
  {
   "cell_type": "markdown",
   "id": "148c9241-7ddf-46fd-a381-08cee61ee69a",
   "metadata": {},
   "source": [
    "someFunc(var1=1,2,3,4)"
   ]
  },
  {
   "cell_type": "markdown",
   "id": "b1834d7b-85fd-4578-86fe-b25eb2084b3b",
   "metadata": {},
   "source": [
    "# Question 3\n",
    "What will be printed when this code is run?"
   ]
  },
  {
   "cell_type": "code",
   "execution_count": 2,
   "id": "7a3d5f39-b192-42f0-a52b-29d4c911dc2a",
   "metadata": {},
   "outputs": [
    {
     "name": "stdout",
     "output_type": "stream",
     "text": [
      "17\n"
     ]
    }
   ],
   "source": [
    "def someFunc(func):\n",
    "    print(func(5) + 2)\n",
    "\n",
    "someFunc(lambda x: x * 3)"
   ]
  },
  {
   "cell_type": "markdown",
   "id": "6d2b9ec2-01d5-49f0-9e5f-f9c5433f6b25",
   "metadata": {},
   "source": [
    "- 17\n",
    "- 21\n",
    "- 7\n",
    "- 11"
   ]
  },
  {
   "cell_type": "markdown",
   "id": "fe192486-6204-4a59-9140-fda510814cce",
   "metadata": {},
   "source": [
    "17"
   ]
  },
  {
   "cell_type": "code",
   "execution_count": null,
   "id": "83c35b73-ab3d-4d2e-9897-8a686af77003",
   "metadata": {},
   "outputs": [],
   "source": []
  }
 ],
 "metadata": {
  "kernelspec": {
   "display_name": "Python 3 (ipykernel)",
   "language": "python",
   "name": "python3"
  },
  "language_info": {
   "codemirror_mode": {
    "name": "ipython",
    "version": 3
   },
   "file_extension": ".py",
   "mimetype": "text/x-python",
   "name": "python",
   "nbconvert_exporter": "python",
   "pygments_lexer": "ipython3",
   "version": "3.11.8"
  }
 },
 "nbformat": 4,
 "nbformat_minor": 5
}

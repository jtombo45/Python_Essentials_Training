{
 "cells": [
  {
   "cell_type": "markdown",
   "id": "896cc297-cce5-4b5c-84a9-2f56c102f71a",
   "metadata": {},
   "source": [
    "# Function Scope"
   ]
  },
  {
   "cell_type": "code",
   "execution_count": 2,
   "id": "631cadd7-b633-4e59-88ea-d1e382e7b498",
   "metadata": {},
   "outputs": [],
   "source": [
    "def performOperation(*args, **kwargs):\n",
    "    print(args)\n",
    "    print(kwargs)"
   ]
  },
  {
   "cell_type": "code",
   "execution_count": 3,
   "id": "595fee00-8cb3-4fab-a023-e67ac467b7b3",
   "metadata": {},
   "outputs": [
    {
     "name": "stdout",
     "output_type": "stream",
     "text": [
      "(1, 2)\n",
      "{'operation': 'sum'}\n"
     ]
    }
   ],
   "source": [
    "performOperation(1,2,operation='sum')"
   ]
  },
  {
   "cell_type": "markdown",
   "id": "5a26d888-6a2f-4d2a-a83d-00b9b1b0d861",
   "metadata": {},
   "source": [
    "### locals()"
   ]
  },
  {
   "cell_type": "code",
   "execution_count": 9,
   "id": "801acd02-c09f-439b-ba89-b55794b350ea",
   "metadata": {},
   "outputs": [],
   "source": [
    "def performOperation(num1, num2, operation='sum'):\n",
    "    print(locals())"
   ]
  },
  {
   "cell_type": "code",
   "execution_count": 10,
   "id": "0ac80043-3028-4797-b729-8845a1da8d96",
   "metadata": {},
   "outputs": [
    {
     "name": "stdout",
     "output_type": "stream",
     "text": [
      "{'num1': 1, 'num2': 2, 'operation': 'multiply'}\n"
     ]
    }
   ],
   "source": [
    "performOperation(1, 2, operation='multiply')"
   ]
  },
  {
   "cell_type": "code",
   "execution_count": 11,
   "id": "dd94471c-e3d3-441f-8ef2-9e515744d9eb",
   "metadata": {},
   "outputs": [
    {
     "ename": "NameError",
     "evalue": "name 'num1' is not defined",
     "output_type": "error",
     "traceback": [
      "\u001b[1;31m---------------------------------------------------------------------------\u001b[0m",
      "\u001b[1;31mNameError\u001b[0m                                 Traceback (most recent call last)",
      "Cell \u001b[1;32mIn[11], line 1\u001b[0m\n\u001b[1;32m----> 1\u001b[0m \u001b[38;5;28mprint\u001b[39m(\u001b[43mnum1\u001b[49m)\n",
      "\u001b[1;31mNameError\u001b[0m: name 'num1' is not defined"
     ]
    }
   ],
   "source": [
    "print(num1)"
   ]
  },
  {
   "cell_type": "markdown",
   "id": "f22f602f-5035-420a-a005-3617a3a35fe0",
   "metadata": {},
   "source": [
    "### globals()"
   ]
  },
  {
   "cell_type": "code",
   "execution_count": 12,
   "id": "cb968c14-3e59-4abd-a93c-db8a2b773700",
   "metadata": {},
   "outputs": [
    {
     "data": {
      "text/plain": [
       "{'__name__': '__main__',\n",
       " '__doc__': 'Automatically created module for IPython interactive environment',\n",
       " '__package__': None,\n",
       " '__loader__': None,\n",
       " '__spec__': None,\n",
       " '__builtin__': <module 'builtins' (built-in)>,\n",
       " '__builtins__': <module 'builtins' (built-in)>,\n",
       " '_ih': ['',\n",
       "  \"performOperation(1,2,operation='sum')\",\n",
       "  'def performOperation(*args, **kwargs):\\n    print(args)\\n    print(kwargs)',\n",
       "  \"performOperation(1,2,operation='sum')\",\n",
       "  'def performOperation(*args, **kwargs):\\n    print(locals())',\n",
       "  'def performOperation(*args, **kwargs):\\n    print(locals())',\n",
       "  \"performOperation(1, 2, operation='multiply')\",\n",
       "  \"def performOperation(num1, num2, operation='sum'):\\n    print(locals())\\nperformOperation(1, 2, operation='multiply')\\nprint(num1)\",\n",
       "  \"def performOperation(num1, num2, operation='sum'):\\n    print(locals())\",\n",
       "  \"def performOperation(num1, num2, operation='sum'):\\n    print(locals())\",\n",
       "  \"performOperation(1, 2, operation='multiply')\",\n",
       "  'print(num1)',\n",
       "  'globals()'],\n",
       " '_oh': {},\n",
       " '_dh': [WindowsPath('C:/Users/JTOMBO/Documents/Training/Python_Essentials_Training/exercise_files/Functions')],\n",
       " 'In': ['',\n",
       "  \"performOperation(1,2,operation='sum')\",\n",
       "  'def performOperation(*args, **kwargs):\\n    print(args)\\n    print(kwargs)',\n",
       "  \"performOperation(1,2,operation='sum')\",\n",
       "  'def performOperation(*args, **kwargs):\\n    print(locals())',\n",
       "  'def performOperation(*args, **kwargs):\\n    print(locals())',\n",
       "  \"performOperation(1, 2, operation='multiply')\",\n",
       "  \"def performOperation(num1, num2, operation='sum'):\\n    print(locals())\\nperformOperation(1, 2, operation='multiply')\\nprint(num1)\",\n",
       "  \"def performOperation(num1, num2, operation='sum'):\\n    print(locals())\",\n",
       "  \"def performOperation(num1, num2, operation='sum'):\\n    print(locals())\",\n",
       "  \"performOperation(1, 2, operation='multiply')\",\n",
       "  'print(num1)',\n",
       "  'globals()'],\n",
       " 'Out': {},\n",
       " 'get_ipython': <bound method InteractiveShell.get_ipython of <ipykernel.zmqshell.ZMQInteractiveShell object at 0x000001F951BB4550>>,\n",
       " 'exit': <IPython.core.autocall.ZMQExitAutocall at 0x1f951bc47d0>,\n",
       " 'quit': <IPython.core.autocall.ZMQExitAutocall at 0x1f951bc47d0>,\n",
       " 'open': <function io.open(file, mode='r', buffering=-1, encoding=None, errors=None, newline=None, closefd=True, opener=None)>,\n",
       " '_': '',\n",
       " '__': '',\n",
       " '___': '',\n",
       " '__session__': 'C:\\\\Users\\\\JTOMBO\\\\Documents\\\\Training\\\\Python_Essentials_Training\\\\exercise_files\\\\Functions\\\\Untitled.ipynb',\n",
       " '_i': 'print(num1)',\n",
       " '_ii': \"performOperation(1, 2, operation='multiply')\",\n",
       " '_iii': \"def performOperation(num1, num2, operation='sum'):\\n    print(locals())\",\n",
       " '_i1': \"performOperation(1,2,operation='sum')\",\n",
       " '_i2': 'def performOperation(*args, **kwargs):\\n    print(args)\\n    print(kwargs)',\n",
       " 'performOperation': <function __main__.performOperation(num1, num2, operation='sum')>,\n",
       " '_i3': \"performOperation(1,2,operation='sum')\",\n",
       " '_i4': 'def performOperation(*args, **kwargs):\\n    print(locals())',\n",
       " '_i5': 'def performOperation(*args, **kwargs):\\n    print(locals())',\n",
       " '_i6': \"performOperation(1, 2, operation='multiply')\",\n",
       " '_i7': \"def performOperation(num1, num2, operation='sum'):\\n    print(locals())\\nperformOperation(1, 2, operation='multiply')\\nprint(num1)\",\n",
       " '_i8': \"def performOperation(num1, num2, operation='sum'):\\n    print(locals())\",\n",
       " '_i9': \"def performOperation(num1, num2, operation='sum'):\\n    print(locals())\",\n",
       " '_i10': \"performOperation(1, 2, operation='multiply')\",\n",
       " '_i11': 'print(num1)',\n",
       " '_i12': 'globals()'}"
      ]
     },
     "execution_count": 12,
     "metadata": {},
     "output_type": "execute_result"
    }
   ],
   "source": [
    "globals()"
   ]
  },
  {
   "cell_type": "markdown",
   "id": "13d4ee91-6881-4b95-bad5-e31e46d8abcb",
   "metadata": {},
   "source": [
    "### Global and Local scope"
   ]
  },
  {
   "cell_type": "code",
   "execution_count": 15,
   "id": "e0cc10a6-1b9a-490c-b1b2-6f089ebfbe86",
   "metadata": {},
   "outputs": [],
   "source": [
    "message = 'Some global data'\n",
    "\n",
    "def function1(varA, varB):\n",
    "    print(message)\n",
    "    print(locals())\n",
    "\n",
    "def function2(varC, varB):\n",
    "    print(message)\n",
    "    print(locals())"
   ]
  },
  {
   "cell_type": "code",
   "execution_count": 16,
   "id": "0766d9da-d382-4695-a37a-bbef1f1c3aed",
   "metadata": {},
   "outputs": [
    {
     "name": "stdout",
     "output_type": "stream",
     "text": [
      "Some global data\n",
      "{'varA': 1, 'varB': 2}\n",
      "Some global data\n",
      "{'varC': 3, 'varB': 4}\n"
     ]
    }
   ],
   "source": [
    "function1(1,2)\n",
    "function2(3,4)"
   ]
  },
  {
   "cell_type": "code",
   "execution_count": 21,
   "id": "ee0b44c4-9ce7-4099-8f40-61d1b846ea18",
   "metadata": {},
   "outputs": [],
   "source": [
    "message = 'Some global data'\n",
    "varA = 2\n",
    "def function1(varA, varB):\n",
    "    message = 'Some local data'\n",
    "    \n",
    "    print(f'\\n{varA}')\n",
    "    print(message)\n",
    "    print(locals())\n",
    "\n",
    "def function2(varC, varB):\n",
    "    print(f'\\n{varA}')\n",
    "    print(message)\n",
    "    print(locals())"
   ]
  },
  {
   "cell_type": "code",
   "execution_count": 22,
   "id": "3f26cdbd-6801-42de-84df-74cca5d069b3",
   "metadata": {},
   "outputs": [
    {
     "name": "stdout",
     "output_type": "stream",
     "text": [
      "\n",
      "1\n",
      "Some local data\n",
      "{'varA': 1, 'varB': 2, 'message': 'Some local data'}\n",
      "\n",
      "2\n",
      "Some global data\n",
      "{'varC': 3, 'varB': 4}\n"
     ]
    }
   ],
   "source": [
    "function1(1,2)\n",
    "function2(3,4)"
   ]
  },
  {
   "cell_type": "code",
   "execution_count": 28,
   "id": "c867d57a-e93c-4a46-bd2e-e5c739e4f499",
   "metadata": {},
   "outputs": [
    {
     "name": "stdout",
     "output_type": "stream",
     "text": [
      "1\n",
      "{'varA': 1, 'varB': 2, 'message': 'Some local data', 'inner_function': <function function1.<locals>.inner_function at 0x000001F951E9BA60>}\n",
      "\n",
      "inner_function local scope: {'varA': 123, 'varB': 456}\n"
     ]
    }
   ],
   "source": [
    "def function1(varA, varB):\n",
    "    message = 'Some local data'\n",
    "    print(varA)\n",
    "    def inner_function(varA, varB):\n",
    "        print(f'\\ninner_function local scope: {locals()}')\n",
    "    print(locals())\n",
    "    inner_function(123, 456)\n",
    "\n",
    "function1(1,2)"
   ]
  },
  {
   "cell_type": "code",
   "execution_count": null,
   "id": "a60a9964-5ef2-4cef-ae66-81be42a22082",
   "metadata": {},
   "outputs": [],
   "source": []
  },
  {
   "cell_type": "code",
   "execution_count": null,
   "id": "e54a88ee-a901-40d1-9a29-778b13ce256a",
   "metadata": {},
   "outputs": [],
   "source": []
  }
 ],
 "metadata": {
  "kernelspec": {
   "display_name": "Python 3 (ipykernel)",
   "language": "python",
   "name": "python3"
  },
  "language_info": {
   "codemirror_mode": {
    "name": "ipython",
    "version": 3
   },
   "file_extension": ".py",
   "mimetype": "text/x-python",
   "name": "python",
   "nbconvert_exporter": "python",
   "pygments_lexer": "ipython3",
   "version": "3.11.8"
  }
 },
 "nbformat": 4,
 "nbformat_minor": 5
}
